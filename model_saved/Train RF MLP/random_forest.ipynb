{
 "cells": [
  {
   "cell_type": "code",
   "execution_count": 1,
   "metadata": {},
   "outputs": [
    {
     "ename": "ModuleNotFoundError",
     "evalue": "No module named 'pandas'",
     "output_type": "error",
     "traceback": [
      "\u001b[1;31m---------------------------------------------------------------------------\u001b[0m",
      "\u001b[1;31mModuleNotFoundError\u001b[0m                       Traceback (most recent call last)",
      "Input \u001b[1;32mIn [1]\u001b[0m, in \u001b[0;36m<cell line: 2>\u001b[1;34m()\u001b[0m\n\u001b[0;32m      1\u001b[0m \u001b[38;5;66;03m# Import necessary libraries\u001b[39;00m\n\u001b[1;32m----> 2\u001b[0m \u001b[38;5;28;01mimport\u001b[39;00m \u001b[38;5;21;01mpandas\u001b[39;00m \u001b[38;5;28;01mas\u001b[39;00m \u001b[38;5;21;01mpd\u001b[39;00m\n\u001b[0;32m      3\u001b[0m \u001b[38;5;28;01mfrom\u001b[39;00m \u001b[38;5;21;01msklearn\u001b[39;00m\u001b[38;5;21;01m.\u001b[39;00m\u001b[38;5;21;01mmodel_selection\u001b[39;00m \u001b[38;5;28;01mimport\u001b[39;00m train_test_split,cross_val_score\n\u001b[0;32m      4\u001b[0m \u001b[38;5;28;01mfrom\u001b[39;00m \u001b[38;5;21;01msklearn\u001b[39;00m\u001b[38;5;21;01m.\u001b[39;00m\u001b[38;5;21;01mensemble\u001b[39;00m \u001b[38;5;28;01mimport\u001b[39;00m RandomForestRegressor\n",
      "\u001b[1;31mModuleNotFoundError\u001b[0m: No module named 'pandas'"
     ]
    }
   ],
   "source": [
    "# Import necessary libraries\n",
    "import pandas as pd\n",
    "from sklearn.model_selection import train_test_split,cross_val_score\n",
    "from sklearn.ensemble import RandomForestRegressor\n",
    "from sklearn.metrics import mean_squared_error,mean_absolute_error, r2_score\n",
    "import numpy as np\n",
    "\n",
    "data = pd.read_csv('data/preprocess.csv')  \n",
    "\n",
    "data = data.drop(columns=['Weight'])\n",
    "\n",
    "X = data.drop(columns=['Price'])\n",
    "y = data['Price']\n",
    "X_train, X_test, y_train, y_test = train_test_split(X, y, test_size=0.25, random_state=42)\n",
    "\n",
    "rf_model = RandomForestRegressor(max_depth=20,n_estimators=200,min_samples_leaf=1,min_samples_split=2,random_state=42,)\n",
    "rf_model.fit(X_train, y_train)\n",
    "\n",
    "y_pred = rf_model.predict(X_test)\n",
    "mse = mean_squared_error(y_test, y_pred)\n",
    "rmse = np.sqrt(mse)\n",
    "print(f\"Mean Squared Error (MSE): {mse}\")\n",
    "\n",
    "mae = mean_absolute_error(y_test, y_pred)\n",
    "print(f\"Mean Absolute Error (MAE): {mae}\")\n",
    "\n",
    "r2 = r2_score(y_test, y_pred)\n",
    "print(f\"R-squared (R2): {r2}\")\n",
    "\n",
    "def mean_squared_percentage_error(y_true, y_pred):\n",
    "    return np.mean(np.square((y_true - y_pred) / y_true)) * 100\n",
    "\n",
    "mspe = mean_squared_percentage_error(y_test, y_pred)\n",
    "print(f\"Mean Squared Percentage Error (MSPE): {mspe}\")\n",
    "\n",
    "def mean_absolute_percentage_error(y_true, y_pred):\n",
    "    return np.mean(np.abs((y_true - y_pred) / y_true)) * 100\n",
    "\n",
    "mape = mean_absolute_percentage_error(y_test, y_pred)\n",
    "print(f\"Mean Absolute Percentage Error (MAPE): {mape}\")\n",
    "data\n"
   ]
  },
  {
   "cell_type": "code",
   "execution_count": 95,
   "metadata": {},
   "outputs": [
    {
     "name": "stdout",
     "output_type": "stream",
     "text": [
      "Best Hyperparameters: {'max_depth': 20, 'n_estimators': 200}\n",
      "Tuned Model Mean Squared Error: 134371.66012200987\n",
      "Tuned Model R-squared (R2): 0.6439460627240996\n",
      "Tuned Model Mean Absolute Error (MAE): 179.48809866642065\n"
     ]
    }
   ],
   "source": [
    "#grid search\n",
    "# from sklearn.model_selection import GridSearchCV\n",
    "\n",
    "# param_grid = {\n",
    "#     'n_estimators': [50, 100, 150, 200],\n",
    "#     'max_depth': [None, 10, 20]\n",
    "# }\n",
    "\n",
    "# grid_search = GridSearchCV(RandomForestRegressor(random_state=42), param_grid, cv=5, scoring='neg_mean_absolute_error')\n",
    "# grid_search.fit(X_train, y_train)\n",
    "\n",
    "# best_params = grid_search.best_params_\n",
    "# print(f\"Best Hyperparameters: {best_params}\")\n",
    "\n",
    "# tuned_y_pred = grid_search.best_estimator_.predict(X_test)\n",
    "# tuned_mse = mean_squared_error(y_test, tuned_y_pred)\n",
    "# tuned_r2 = r2_score(y_test, tuned_y_pred)\n",
    "# tunned_mas=mean_absolute_error(y_test, tuned_y_pred)\n",
    "# print(f\"Tuned Model Mean Squared Error: {tuned_mse}\")\n",
    "# print(f\"Tuned Model R-squared (R2): {tuned_r2}\")\n",
    "# print(f\"Tuned Model Mean Absolute Error (MAE): {tunned_mas}\")\n"
   ]
  },
  {
   "cell_type": "code",
   "execution_count": 93,
   "metadata": {},
   "outputs": [
    {
     "data": {
      "text/html": [
       "<div>\n",
       "<style scoped>\n",
       "    .dataframe tbody tr th:only-of-type {\n",
       "        vertical-align: middle;\n",
       "    }\n",
       "\n",
       "    .dataframe tbody tr th {\n",
       "        vertical-align: top;\n",
       "    }\n",
       "\n",
       "    .dataframe thead th {\n",
       "        text-align: right;\n",
       "    }\n",
       "</style>\n",
       "<table border=\"1\" class=\"dataframe\">\n",
       "  <thead>\n",
       "    <tr style=\"text-align: right;\">\n",
       "      <th></th>\n",
       "      <th>Predicted_Price</th>\n",
       "      <th>Price</th>\n",
       "    </tr>\n",
       "  </thead>\n",
       "  <tbody>\n",
       "    <tr>\n",
       "      <th>0</th>\n",
       "      <td>1001.129217</td>\n",
       "      <td>1292.39</td>\n",
       "    </tr>\n",
       "    <tr>\n",
       "      <th>1</th>\n",
       "      <td>1040.817192</td>\n",
       "      <td>1049.00</td>\n",
       "    </tr>\n",
       "    <tr>\n",
       "      <th>2</th>\n",
       "      <td>375.440242</td>\n",
       "      <td>446.92</td>\n",
       "    </tr>\n",
       "    <tr>\n",
       "      <th>3</th>\n",
       "      <td>1123.636850</td>\n",
       "      <td>692.99</td>\n",
       "    </tr>\n",
       "    <tr>\n",
       "      <th>4</th>\n",
       "      <td>1614.729200</td>\n",
       "      <td>1845.80</td>\n",
       "    </tr>\n",
       "    <tr>\n",
       "      <th>...</th>\n",
       "      <td>...</td>\n",
       "      <td>...</td>\n",
       "    </tr>\n",
       "    <tr>\n",
       "      <th>565</th>\n",
       "      <td>742.475258</td>\n",
       "      <td>749.99</td>\n",
       "    </tr>\n",
       "    <tr>\n",
       "      <th>566</th>\n",
       "      <td>2219.925175</td>\n",
       "      <td>1950.00</td>\n",
       "    </tr>\n",
       "    <tr>\n",
       "      <th>567</th>\n",
       "      <td>344.877878</td>\n",
       "      <td>439.99</td>\n",
       "    </tr>\n",
       "    <tr>\n",
       "      <th>568</th>\n",
       "      <td>573.514398</td>\n",
       "      <td>629.79</td>\n",
       "    </tr>\n",
       "    <tr>\n",
       "      <th>569</th>\n",
       "      <td>626.096819</td>\n",
       "      <td>699.99</td>\n",
       "    </tr>\n",
       "  </tbody>\n",
       "</table>\n",
       "<p>570 rows × 2 columns</p>\n",
       "</div>"
      ],
      "text/plain": [
       "     Predicted_Price    Price\n",
       "0        1001.129217  1292.39\n",
       "1        1040.817192  1049.00\n",
       "2         375.440242   446.92\n",
       "3        1123.636850   692.99\n",
       "4        1614.729200  1845.80\n",
       "..               ...      ...\n",
       "565       742.475258   749.99\n",
       "566      2219.925175  1950.00\n",
       "567       344.877878   439.99\n",
       "568       573.514398   629.79\n",
       "569       626.096819   699.99\n",
       "\n",
       "[570 rows x 2 columns]"
      ]
     },
     "execution_count": 93,
     "metadata": {},
     "output_type": "execute_result"
    }
   ],
   "source": [
    "new_input_data = pd.read_csv('data/new_preprocess.csv') #first 5 in dataset\n",
    "\n",
    "new_input_data.drop(columns=['Unnamed: 0'], inplace=True)\n",
    "features = ['CPU Mark', 'GPU Mark', 'Monitor', 'RAM', 'Storage Amount','Encoded_Brand','Encoded_OS', 'Resolution']\n",
    "\n",
    "X_new_input = new_input_data[features]\n",
    "predictions_new_input = rf_model.predict(X_new_input)\n",
    "\n",
    "new_input_data['Predicted_Price'] = predictions_new_input\n",
    " \n",
    "new_input_data[['Predicted_Price', 'Price']]\n"
   ]
  },
  {
   "cell_type": "code",
   "execution_count": 94,
   "metadata": {},
   "outputs": [
    {
     "name": "stdout",
     "output_type": "stream",
     "text": [
      "Accuracy: 87.08%\n"
     ]
    }
   ],
   "source": [
    "mape = np.mean(np.abs((new_input_data['Price'] - new_input_data['Predicted_Price']) / new_input_data['Price'])) * 100\n",
    "\n",
    "# Calculate accuracy\n",
    "accuracy = 100 - mape\n",
    "\n",
    "print(f\"Accuracy: {accuracy:.2f}%\")"
   ]
  }
 ],
 "metadata": {
  "kernelspec": {
   "display_name": "Python 3",
   "language": "python",
   "name": "python3"
  },
  "language_info": {
   "codemirror_mode": {
    "name": "ipython",
    "version": 3
   },
   "file_extension": ".py",
   "mimetype": "text/x-python",
   "name": "python",
   "nbconvert_exporter": "python",
   "pygments_lexer": "ipython3",
   "version": "3.10.3"
  }
 },
 "nbformat": 4,
 "nbformat_minor": 2
}
