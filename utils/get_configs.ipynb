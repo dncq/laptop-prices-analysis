{
 "cells": [
  {
   "cell_type": "code",
   "execution_count": 1,
   "metadata": {},
   "outputs": [],
   "source": [
    "from bs4 import BeautifulSoup\n",
    "from selenium import webdriver"
   ]
  },
  {
   "cell_type": "code",
   "execution_count": 3,
   "metadata": {},
   "outputs": [],
   "source": [
    "products = []\n",
    "with open(\"../bhphotovideo_items.txt\") as f:\n",
    "    for line in f.readlines():\n",
    "        products.append(line)"
   ]
  },
  {
   "cell_type": "code",
   "execution_count": 4,
   "metadata": {},
   "outputs": [
    {
     "name": "stdout",
     "output_type": "stream",
     "text": [
      "https://www.bhphotovideo.com/c/product/1745674-REG/lenovo_82wk0082us_16_legion_pro_5i.html\n",
      "\n",
      "https://www.bhphotovideo.com/c/product/1762582-REG/lenovo_82x70005us_15_6_ideapad_slim_3.html\n",
      "\n",
      "https://www.bhphotovideo.com/c/product/1772712-REG/lenovo_82xf0065us_16_ideapad_slim_5i.html\n",
      "\n",
      "https://www.bhphotovideo.com/c/product/1762299-REG/asus_k3605vv_bb74_16_vivobook_notebook_i7_13700h.html\n",
      "\n",
      "https://www.bhphotovideo.com/c/product/1745682-REG/lenovo_82wk0083us_16_legion_pro_5i.html\n",
      "\n"
     ]
    }
   ],
   "source": [
    "print(\"\\n\".join(products[:5]))"
   ]
  },
  {
   "cell_type": "code",
   "execution_count": 5,
   "metadata": {},
   "outputs": [],
   "source": [
    "from random import uniform\n",
    "from time import sleep"
   ]
  },
  {
   "cell_type": "code",
   "execution_count": 6,
   "metadata": {},
   "outputs": [
    {
     "name": "stdout",
     "output_type": "stream",
     "text": [
      "https://www.bhphotovideo.com/c/product/1772712-REG/lenovo_82xf0065us_16_ideapad_slim_5i.html\n",
      "\n"
     ]
    }
   ],
   "source": [
    "test_url = products[2]\n",
    "print(test_url)"
   ]
  },
  {
   "cell_type": "code",
   "execution_count": 9,
   "metadata": {},
   "outputs": [
    {
     "name": "stderr",
     "output_type": "stream",
     "text": [
      "C:\\Users\\DELL\\AppData\\Local\\Temp\\ipykernel_19364\\97343907.py:3: DeprecationWarning: executable_path has been deprecated, please pass in a Service object\n",
      "  driver = webdriver.Chrome(executable_path=\"driver/chromedriver.exe\", options=options)\n"
     ]
    }
   ],
   "source": [
    "options = webdriver.ChromeOptions()\n",
    "options.add_argument('--headless')\n",
    "driver = webdriver.Chrome(executable_path=\"driver/chromedriver.exe\", options=options)\n",
    "driver.get(test_url)\n",
    "\n",
    "driver.implicitly_wait(10)\n",
    "\n",
    "html_content = driver.page_source"
   ]
  },
  {
   "cell_type": "code",
   "execution_count": 10,
   "metadata": {},
   "outputs": [
    {
     "data": {
      "text/plain": [
       "'<html lang=\"en-US\" class=\"lang-en\"><head><title>Just a moment...</title><meta http-equiv=\"Content-Type\" content=\"text/html; charset=UTF-8\"><meta http-equiv=\"X-UA-Compatible\" content=\"IE=Edge\"><meta name=\"robots\" content=\"noindex,nofollow\"><meta name=\"viewport\" content=\"width=device-width,initial-scale=1\"><link href=\"/cdn-cgi/styles/challenges.css\" rel=\"stylesheet\"><meta http-equiv=\"refresh\" content=\"375\"><script src=\"/cdn-cgi/challenge-platform/h/b/orchestrate/chl_page/v1?ray=8318ebb10a0b0f08\"></script><script src=\"https://challenges.cloudflare.com/turnstile/v0/b/56d3063b/api.js?onload=CUdK8&amp;render=explicit\" async=\"\" defer=\"\" crossorigin=\"anonymous\"></script></head><body class=\"no-js\"><div class=\"main-wrapper\" role=\"main\"><div class=\"main-content\"><h1 class=\"zone-name-title h1\"><img src=\"/favicon.ico\" class=\"heading-favicon\" alt=\"Icon for www.bhphotovideo.com\">www.bhphotovideo.com</h1><h2 id=\"challenge-running\" class=\"h2\">Checking if the site connection is secure</h2><div id=\"challenge-stage\"></div><div id=\"challenge-spinner\" class=\"spacer loading-spinner\" style=\"display: block; visibility: visible;\"><div class=\"lds-ring\"><div></div><div></div><div></div><div></div></div></div><div id=\"challenge-body-text\" class=\"core-msg spacer\">www.bhphotovideo.com needs to review the security of your connection before proceeding.</div><div id=\"challenge-success\" style=\"display: none;\"><div class=\"h2\"><span class=\"icon-wrapper\"><img class=\"heading-icon\" alt=\"Success icon\" src=\"data:image/png;base64,iVBORw0KGgoAAAANSUhEUgAAADQAAAA0CAMAAADypuvZAAAANlBMVEUAAAAxMTEwMDAxMTExMTEwMDAwMDAwMDAxMTExMTExMTEwMDAwMDAxMTExMTEwMDAwMDAxMTHB9N+uAAAAEXRSTlMA3zDvfyBAEJC/n3BQz69gX7VMkcMAAAGySURBVEjHnZZbFoMgDEQJiDzVuv/NtgbtFGuQ4/zUKpeMIQbUhXSKE5l1XSn4pFWHRm/WShT1HRLWC01LGxFEVkCc30eYkLJ1Sjk9pvkw690VY6k8DWP9OM9yMG0Koi+mi8XA36NXmW0UXra4eJ3iwHfrfXVlgL0NqqGBHdqfeQhMmyJ48WDuKP81h3+SMPeRKkJcSXiLUK4XTHCjESOnz1VUXQoc6lgi2x4cI5aTQ201Mt8wHysI5fc05M5c81uZEtHcMKhxZ7iYEty1GfhLvGKpm+EYkdGxm1F5axmcB93DoORIbXfdN7f+hlFuyxtDP+sxtBnF43cIYwaZAWRgzxIoiXEMESoPlMhwLRDXeK772CAzXEdBRV7cmnoVBp0OSlyGidEzJTFq5hhcsA5388oSGM6b5p+qjpZrBlMS9xj4AwXmz108ukU1IomM3ceiW0CDwHCqp1NjAqXlFrbga+xuloQJ+tuyfbIBPNpqnmxqT7dPaOnZqBfhSBCteJAxWj58zLk2xgg+SPGYM6dRO6WczSnIxxwEExRaO+UyCUhbOp7CGQ+kxSUfNtLQFC+Po29vvy7jj4y0yAAAAABJRU5ErkJggg==\"></span>Connection is secure</div><div class=\"core-msg spacer\">Proceeding...</div></div><noscript><div id=\"challenge-error-title\"><div class=\"h2\"><span class=\"icon-wrapper\"><div class=\"heading-icon warning-icon\"></div></span><span id=\"challenge-error-text\">Enable JavaScript and cookies to continue</span></div></div></noscript></div></div><script>(function(){window._cf_chl_opt={cvId: \\'2\\',cZone: \"www.bhphotovideo.com\",cType: \\'managed\\',cNounce: \\'55858\\',cRay: \\'8318ebb10a0b0f08\\',cHash: \\'1f637c7eb611007\\',cUPMDTk: \"\\\\/c\\\\/product\\\\/1772712-REG\\\\/lenovo_82xf0065us_16_ideapad_slim_5i.html?__cf_chl_tk=sZueMU5FmDbsRqhtZKLzn_Nr3S.8yfIwC0rpRB8ZqmA-1701911759-0-gaNycGzNDhA\",cFPWv: \\'b\\',cTTimeMs: \\'1000\\',cMTimeMs: \\'375000\\',cTplV: 5,cTplB: \\'cf\\',cK: \"visitor-time\",fa: \"\\\\/c\\\\/product\\\\/1772712-REG\\\\/lenovo_82xf0065us_16_ideapad_slim_5i.html?__cf_chl_f_tk=sZueMU5FmDbsRqhtZKLzn_Nr3S.8yfIwC0rpRB8ZqmA-1701911759-0-gaNycGzNDhA\",md: \"8m9OhPDKSur6yoRSa_EqVw5OGSAzdXnyPAQulIHP_SI-1701911759-0-AfRJDnNeWChO3UeT1TYYrMrm13gyFeOyMLovT7VuzPGK40VSeTCw31duzMXlcPOy_IbjXg-cM_y5ufRluJXceEUI_Ds2cHuoN0SzzociWJtauIdpEP_S7la05UALJKCYmVRyjqzPTUz_lhNiES1cGRmPHpSkMtOWE4cxCbgI_BieoaVMfAH701aN_wbJDmGAVCbfOdPM6UdTSVIUJrLJUym5TrhsAkvBqfjJonkacPNF3Prg1NhDC0CNgDmWsM8301ThV50cI8HMEtcqeQI0WLvDAF0gjBCIO4v4fOhXIdQ_-RHrBj5O7URR4O3d9MwvcSLVE207QBpreRkHN3wP85SQHTA_kpDx4rJFa2xpUci7XB87qseqS6ACAD7Xp0wsmCoV7eeYECzW_TixJr5Y-Z-v9vf1Ltd2XOZ30fUfpWdT6Zld6gG0PA_MLMyIg3IOPTIShpr7wmI9DdpRz89tzI1i8jyxjTCeHTNqPa_KuvHTZnsD9ruAlG_TSj6KkOSVmfWCIlNbsZdZl3MJYfnbUbV-BSgY_xLeiD7-e5pbMnyKeXJw1SFQR_nFZ1onhstGv6CZBlhiGwNo8cbpdYtHyqYj-tdwR5ckPHeeKd4OUcmB1jaC_-pSnTHicLXuBd39ToXOpbs547LYBnA8t21M1LmQpo3bqm8Q7bjosg_TH99L5bxuZudKS_QkRtKG-h9S0l5VAid93CvKdyd9u1vqgNABDSwfjHpiHnfEytvlvDjrtJIfvbAXBsF6O9_pIx9cetbu7F-b4q3ntiJQCaY-GMWKVSCW7lFSJMJteIbAy0dQ9qHzDi9ohLpRMG2zyhuJ0AGvs_KeZ7xjS49QkuK7G4-kSMT7fRPHBGhEWZbU_V93ca57mRXRuXBZelRLTye0plqaEJzx9e45KQabQBxejBA9rbMZZL6c0pWf7wIpmqMDj903srkvH_o2C42NYPS68CdP0EbQQZcoPkZ0Ja6Genzun5OO45AJD2xDNaLjALOKkqOcRSSRWQ62gDyKjT-S6IHVKs5GzsAgw8o9NQQ5Mga5dT8Om9lqE0E52PmOWH-1-bg9xaxe65nY6LLDTLH4uXEDRXbpP8q9odNrySRDCxEdwFGij57SErRZNBIVK9uHpjvOJm4nlcwI8sfY5PYBrmf73dYfdWTXp3-PIweT1jsxWQABsjnxz4-RUnuKes3yVPZD5Onh3jYlOKA--hc86Fk2_CbXXRz1TCW9M-6agoLsQ6EH_V6Z9aEdbi1WqJC_D-8dr7TXjVTssQnX7TXHS7Da9m7Yx3oazFBamnNYc2FgHEhfazgUUoC2URzGsxhnIYPbiXjh2xJClGGzNCfyiH1-UXd7Vq6hTOq-lOabKYN_Z9vEG49GvVNZre7zmc4MmRMeCN0o_nAOOhpmlg-7BKM_Ct8LbGqjOdbSqXC15QVlblUBSYuOUuHvf3f1_mRyKDuafgwmb1aE-j2ErmnKy2-FvA_1sob4UFy4fAAJO_fZTBBVRQsLySVciZHYo81KACWBKl_uFMa_mYxrfF4F4qT47eolQdiryFKnjYtqBc8hFLsckh_c6aQEulUdFQkZvuAnEqB97tsKdVG1YOpd-VO6f46aGH4AjBjMIFHgnYRQVBDte9zIma_n2AUTUOSM4Tfm5bRx9VFsRfCgUEPpNQD8rvsB0rOo_-ZX0xdT656G1hSvfrr8LOYlBwWW9sy6n8BiETA_23azY8aB1buWvusTSp7oAJy_yA-7UqjoRiiHl3diJLweIc30U98l5zGHWgrPdNUoQAOj5Wbyg07bcFWYXrB1hSy_GJyn5JrPiiXrVeiaQZiz1t6h_LnUw12Q2ZuB73R05QeHnMD4qlRlSJZTYKolqFtqq8BVwkMosEVj9hNXhsvU8bUnETxiyqtiVuMplbuFS6y_BDvFMd0SACUMLnLEdrTnn_lVH_dLaJpGcPk1W44pkKzd9BOFSztyIxz3Vy_CN3djC1DJuIsiaGzkv9eJWXr2qovT2cWUSexF8aYSDU-JwBboL4HQbPh10REsLGLPsFrwe3b2Z8Um6ssdI2Q4nwvpkr4g0m2LZVR56AYxmhm6_oEdaPvoN2YDfmiHBoAaJY5ejeDF8v5GstSdaePs8HAoFrmviUjKo2PpsmaGjL8eVEnFYYU-GhSNK4lzFSzVUsRubBt5Tugkn48xq_1X7krqG4eGiCg7rZJ5-XfLwyq3gQSe6H4S9RjXCwWq541qUuV9YgzoFOOHM5-6RKnbwkyTt93x65yi77BUtl7ID84ElK4M14tkbRAmGsZo4W04tb0TmHHlIb9MH1LeZ0whNneKp1fdVCF6pr332yaLzIU-OxIFReUBmgB8rBk29iyeWbaVTEkZMxy1cdQxquE-V27zPhgGDc3FMLxdlZ4Opnsi2kw3pDNmLUZLpIFOeeProtOe9IMyv4MGyJWl6-7w4ozC6_J7lcQ20Drk5pDCyUC2g_WVKBWqHn82PsSo3Fsl_8-_QDTHifzKuQWvKFdYjvijChYiUkhki2gblBX98qqmd3OGO1GKAyH_Xj4xApb24DsRpPmBx74neH8LrRE7k2al-HWGjy1pa2S0aiLMI9BU8ZqvLEBLZak9RwH2LtMn6ZN6XWujQVOsfYIwbdUbjoKhlvrx9PgoSm1qTTeFfgM9v-kqU4_EKq87Y137PFel5ov_t60RXvFp_efKExZ44YuEQM1VFRvQK73YjI62QzHcQUz9q2aF-ejShfHfRSHuQNdNEvro3euQ7w6VkbLn1h_g7gGn2A4IK34rZWr52p8TDeUDeQUs9lIUAN0zm4d8g0m5ma20Peu-hDjFtobvjSWo7KthtWZ1jgdJJGzg5ueTbMVtKdNIxOdGqb2GpBxjnwgPv4QwkIt6JgRsb-P3TIAw1ssaS8Pc0vcIZEQ7lXYHv0vJOzVckhWNAGOzr2QCX-9unmQ12xUFF7Y1B7M_KYLk0lyDe9lJwzf788hIQnj_FOc4uIA06ocopbwIjSYuQO8IWLhz-4djo24YpPZr_WUXy_4ig85hkhBQg5PbpJHDIFH7293pj_0xSAxll27qjwL2odLhfqjxXHXAIAcZTCxWarm81aH3J5moN1b_8DVsOvoRdekL4fBgcj2zFt2WGBYKv0F479_EnV3z2n7jGJtHPamnJ7BAO6EcDPinAdns2CHVxbU446R2gachj1tiU-c5WVieBn-CTDZxgvMvBtGQZehnrWW8ZFQeSBkzKkHCIad9OnxsaQYrD996UoUAEPAqP4KKi2VSsZnUeO7jVHgF7J_sky8mgacwp1q05-XO6j9vECnKmcv0FGmYhs2NpTlmpusL4KYHf9zv70QbITiT5gabj1CA69i9X6ISc4CdFnbzDG0q50N2nG5gnlQlamCqWPMkHRpgqAmvoAK9NvhtdVNKWN9oGHGKlEvJBfAOyZgExAwr2KcqoxralYPpmlU0RSI84ie5QVs4_Gtk9eVLkpoP9yLX6n4ZlsQ_T3AYA-IxDJZnkcRD2V02x9iUKi00CzypjeyHZMneAmdEqCgB0jLgX0XewhU\",cRq: {ru: \\'aHR0cHM6Ly93d3cuYmhwaG90b3ZpZGVvLmNvbS9jL3Byb2R1Y3QvMTc3MjcxMi1SRUcvbGVub3ZvXzgyeGYwMDY1dXNfMTZfaWRlYXBhZF9zbGltXzVpLmh0bWw=\\',ra: \\'TW96aWxsYS81LjAgKFdpbmRvd3MgTlQgMTAuMDsgV2luNjQ7IHg2NCkgQXBwbGVXZWJLaXQvNTM3LjM2IChLSFRNTCwgbGlrZSBHZWNrbykgSGVhZGxlc3NDaHJvbWUvMTE5LjAuNjA0NS4yMDAgU2FmYXJpLzUzNy4zNg==\\',rm: \\'R0VU\\',d: \\'uaAjBPnJ+rKbl7IOfxejUonYyM+4RwsE/eLit5M2WUC8KV+De0sxf1/TQs+vq5++QKdk+n88WuyQRyy/fzRACo7feYJtwP4mbnimlnFDQBiY5Lh8XdeLZ0On3hTFIiTVWEJu3T6Gvn6NSXNWPMaJQycAwrKILNW4zPNUP1tYs8VvTUa3cBCF20QJR1wsxa1GImqAoOWRGAyIVe0d554uyFJVlhEGXGWx3OJM+AeetgR7p1LavgW8W/iuiPhXKwxDBl4yXiKIDwGPfJ5jdOqS/9geQoP8q3oxqC3VgzEu+YQAita4AKZWqAHUGroGbyDzXki/2S2VmUDm0X07a0CD89pTAKWfo0O65uVaPuw1atwKrGAA4P5IoilbNP7uECE1CzkJDvrh0OdY7Lgu9dc02zf01qBYYSZd0uqfEda0DOkRH4EGBV1anSzV+D01TGhUf7nsnP4aWzQgV9LHkMv819xiStQ3I2eoxbHX4cZQYplI8NoFGQMlVvjVkVcTkyYXn22JUkQX5xjwaEV+fGWVQG+0GObiVcXqLs0PMi9y4ibpn9uCM456VK2u3ZcZ6JPh6RZS7yr/C/qahIJIOOPmfw==\\',t: \\'MTcwMTkxMTc1OS41NDEwMDA=\\',cT: Math.floor(Date.now() / 1000),m: \\'/o8ng9UsxjR3GVJohxqTBMlJ7kAu9J7JxTubRXGvoGY=\\',i1: \\'x+cD7nRtK3Bb3vXn6fa7oQ==\\',i2: \\'CuvR/eAa6ZW4CGqn03H2Ew==\\',zh: \\'IQM51pJqY07U6HUOWvB582D7YxwR1PfnvJdvEea0Akw=\\',uh: \\'8rSkVp5GIDQe5hARwCDedVJGPLXA3NnuBHvnAap7NNg=\\',hh: \\'gxE/iMzMpw5MYHrzQf3XGBplnrtKQcJCut5Rll+Pt1A=\\',}};var cpo = document.createElement(\\'script\\');cpo.src = \\'/cdn-cgi/challenge-platform/h/b/orchestrate/chl_page/v1?ray=8318ebb10a0b0f08\\';window._cf_chl_opt.cOgUHash = location.hash === \\'\\' && location.href.indexOf(\\'#\\') !== -1 ? \\'#\\' : location.hash;window._cf_chl_opt.cOgUQuery = location.search === \\'\\' && location.href.slice(0, location.href.length - window._cf_chl_opt.cOgUHash.length).indexOf(\\'?\\') !== -1 ? \\'?\\' : location.search;if (window.history && window.history.replaceState) {var ogU = location.pathname + window._cf_chl_opt.cOgUQuery + window._cf_chl_opt.cOgUHash;history.replaceState(null, null, \"\\\\/c\\\\/product\\\\/1772712-REG\\\\/lenovo_82xf0065us_16_ideapad_slim_5i.html?__cf_chl_rt_tk=sZueMU5FmDbsRqhtZKLzn_Nr3S.8yfIwC0rpRB8ZqmA-1701911759-0-gaNycGzNDhA\" + window._cf_chl_opt.cOgUHash);cpo.onload = function() {history.replaceState(null, null, ogU);}}document.getElementsByTagName(\\'head\\')[0].appendChild(cpo);}());</script><div class=\"footer\" role=\"contentinfo\"><div class=\"footer-inner\"><div class=\"clearfix diagnostic-wrapper\"><div class=\"ray-id\">Ray ID: <code>8318ebb10a0b0f08</code></div></div><div class=\"text-center\" id=\"footer-text\">Performance &amp; security by <a rel=\"noopener noreferrer\" href=\"https://www.cloudflare.com?utm_source=challenge&amp;utm_campaign=m\" target=\"_blank\">Cloudflare</a></div></div></div></body></html>'"
      ]
     },
     "execution_count": 10,
     "metadata": {},
     "output_type": "execute_result"
    }
   ],
   "source": [
    "html_content"
   ]
  },
  {
   "cell_type": "code",
   "execution_count": 11,
   "metadata": {},
   "outputs": [
    {
     "data": {
      "text/plain": [
       "<html class=\"lang-en\" lang=\"en-US\"><head><title>Just a moment...</title><meta content=\"text/html; charset=utf-8\" http-equiv=\"Content-Type\"/><meta content=\"IE=Edge\" http-equiv=\"X-UA-Compatible\"/><meta content=\"noindex,nofollow\" name=\"robots\"/><meta content=\"width=device-width,initial-scale=1\" name=\"viewport\"/><link href=\"/cdn-cgi/styles/challenges.css\" rel=\"stylesheet\"/><meta content=\"375\" http-equiv=\"refresh\"/><script src=\"/cdn-cgi/challenge-platform/h/b/orchestrate/chl_page/v1?ray=8318ebb10a0b0f08\"></script><script async=\"\" crossorigin=\"anonymous\" defer=\"\" src=\"https://challenges.cloudflare.com/turnstile/v0/b/56d3063b/api.js?onload=CUdK8&amp;render=explicit\"></script></head><body class=\"no-js\"><div class=\"main-wrapper\" role=\"main\"><div class=\"main-content\"><h1 class=\"zone-name-title h1\"><img alt=\"Icon for www.bhphotovideo.com\" class=\"heading-favicon\" src=\"/favicon.ico\"/>www.bhphotovideo.com</h1><h2 class=\"h2\" id=\"challenge-running\">Checking if the site connection is secure</h2><div id=\"challenge-stage\"></div><div class=\"spacer loading-spinner\" id=\"challenge-spinner\" style=\"display: block; visibility: visible;\"><div class=\"lds-ring\"><div></div><div></div><div></div><div></div></div></div><div class=\"core-msg spacer\" id=\"challenge-body-text\">www.bhphotovideo.com needs to review the security of your connection before proceeding.</div><div id=\"challenge-success\" style=\"display: none;\"><div class=\"h2\"><span class=\"icon-wrapper\"><img alt=\"Success icon\" class=\"heading-icon\" src=\"data:image/png;base64,iVBORw0KGgoAAAANSUhEUgAAADQAAAA0CAMAAADypuvZAAAANlBMVEUAAAAxMTEwMDAxMTExMTEwMDAwMDAwMDAxMTExMTExMTEwMDAwMDAxMTExMTEwMDAwMDAxMTHB9N+uAAAAEXRSTlMA3zDvfyBAEJC/n3BQz69gX7VMkcMAAAGySURBVEjHnZZbFoMgDEQJiDzVuv/NtgbtFGuQ4/zUKpeMIQbUhXSKE5l1XSn4pFWHRm/WShT1HRLWC01LGxFEVkCc30eYkLJ1Sjk9pvkw690VY6k8DWP9OM9yMG0Koi+mi8XA36NXmW0UXra4eJ3iwHfrfXVlgL0NqqGBHdqfeQhMmyJ48WDuKP81h3+SMPeRKkJcSXiLUK4XTHCjESOnz1VUXQoc6lgi2x4cI5aTQ201Mt8wHysI5fc05M5c81uZEtHcMKhxZ7iYEty1GfhLvGKpm+EYkdGxm1F5axmcB93DoORIbXfdN7f+hlFuyxtDP+sxtBnF43cIYwaZAWRgzxIoiXEMESoPlMhwLRDXeK772CAzXEdBRV7cmnoVBp0OSlyGidEzJTFq5hhcsA5388oSGM6b5p+qjpZrBlMS9xj4AwXmz108ukU1IomM3ceiW0CDwHCqp1NjAqXlFrbga+xuloQJ+tuyfbIBPNpqnmxqT7dPaOnZqBfhSBCteJAxWj58zLk2xgg+SPGYM6dRO6WczSnIxxwEExRaO+UyCUhbOp7CGQ+kxSUfNtLQFC+Po29vvy7jj4y0yAAAAABJRU5ErkJggg==\"/></span>Connection is secure</div><div class=\"core-msg spacer\">Proceeding...</div></div><noscript><div id=\"challenge-error-title\"><div class=\"h2\"><span class=\"icon-wrapper\"><div class=\"heading-icon warning-icon\"></div></span><span id=\"challenge-error-text\">Enable JavaScript and cookies to continue</span></div></div></noscript></div></div><script>(function(){window._cf_chl_opt={cvId: '2',cZone: \"www.bhphotovideo.com\",cType: 'managed',cNounce: '55858',cRay: '8318ebb10a0b0f08',cHash: '1f637c7eb611007',cUPMDTk: \"\\/c\\/product\\/1772712-REG\\/lenovo_82xf0065us_16_ideapad_slim_5i.html?__cf_chl_tk=sZueMU5FmDbsRqhtZKLzn_Nr3S.8yfIwC0rpRB8ZqmA-1701911759-0-gaNycGzNDhA\",cFPWv: 'b',cTTimeMs: '1000',cMTimeMs: '375000',cTplV: 5,cTplB: 'cf',cK: \"visitor-time\",fa: \"\\/c\\/product\\/1772712-REG\\/lenovo_82xf0065us_16_ideapad_slim_5i.html?__cf_chl_f_tk=sZueMU5FmDbsRqhtZKLzn_Nr3S.8yfIwC0rpRB8ZqmA-1701911759-0-gaNycGzNDhA\",md: \"8m9OhPDKSur6yoRSa_EqVw5OGSAzdXnyPAQulIHP_SI-1701911759-0-AfRJDnNeWChO3UeT1TYYrMrm13gyFeOyMLovT7VuzPGK40VSeTCw31duzMXlcPOy_IbjXg-cM_y5ufRluJXceEUI_Ds2cHuoN0SzzociWJtauIdpEP_S7la05UALJKCYmVRyjqzPTUz_lhNiES1cGRmPHpSkMtOWE4cxCbgI_BieoaVMfAH701aN_wbJDmGAVCbfOdPM6UdTSVIUJrLJUym5TrhsAkvBqfjJonkacPNF3Prg1NhDC0CNgDmWsM8301ThV50cI8HMEtcqeQI0WLvDAF0gjBCIO4v4fOhXIdQ_-RHrBj5O7URR4O3d9MwvcSLVE207QBpreRkHN3wP85SQHTA_kpDx4rJFa2xpUci7XB87qseqS6ACAD7Xp0wsmCoV7eeYECzW_TixJr5Y-Z-v9vf1Ltd2XOZ30fUfpWdT6Zld6gG0PA_MLMyIg3IOPTIShpr7wmI9DdpRz89tzI1i8jyxjTCeHTNqPa_KuvHTZnsD9ruAlG_TSj6KkOSVmfWCIlNbsZdZl3MJYfnbUbV-BSgY_xLeiD7-e5pbMnyKeXJw1SFQR_nFZ1onhstGv6CZBlhiGwNo8cbpdYtHyqYj-tdwR5ckPHeeKd4OUcmB1jaC_-pSnTHicLXuBd39ToXOpbs547LYBnA8t21M1LmQpo3bqm8Q7bjosg_TH99L5bxuZudKS_QkRtKG-h9S0l5VAid93CvKdyd9u1vqgNABDSwfjHpiHnfEytvlvDjrtJIfvbAXBsF6O9_pIx9cetbu7F-b4q3ntiJQCaY-GMWKVSCW7lFSJMJteIbAy0dQ9qHzDi9ohLpRMG2zyhuJ0AGvs_KeZ7xjS49QkuK7G4-kSMT7fRPHBGhEWZbU_V93ca57mRXRuXBZelRLTye0plqaEJzx9e45KQabQBxejBA9rbMZZL6c0pWf7wIpmqMDj903srkvH_o2C42NYPS68CdP0EbQQZcoPkZ0Ja6Genzun5OO45AJD2xDNaLjALOKkqOcRSSRWQ62gDyKjT-S6IHVKs5GzsAgw8o9NQQ5Mga5dT8Om9lqE0E52PmOWH-1-bg9xaxe65nY6LLDTLH4uXEDRXbpP8q9odNrySRDCxEdwFGij57SErRZNBIVK9uHpjvOJm4nlcwI8sfY5PYBrmf73dYfdWTXp3-PIweT1jsxWQABsjnxz4-RUnuKes3yVPZD5Onh3jYlOKA--hc86Fk2_CbXXRz1TCW9M-6agoLsQ6EH_V6Z9aEdbi1WqJC_D-8dr7TXjVTssQnX7TXHS7Da9m7Yx3oazFBamnNYc2FgHEhfazgUUoC2URzGsxhnIYPbiXjh2xJClGGzNCfyiH1-UXd7Vq6hTOq-lOabKYN_Z9vEG49GvVNZre7zmc4MmRMeCN0o_nAOOhpmlg-7BKM_Ct8LbGqjOdbSqXC15QVlblUBSYuOUuHvf3f1_mRyKDuafgwmb1aE-j2ErmnKy2-FvA_1sob4UFy4fAAJO_fZTBBVRQsLySVciZHYo81KACWBKl_uFMa_mYxrfF4F4qT47eolQdiryFKnjYtqBc8hFLsckh_c6aQEulUdFQkZvuAnEqB97tsKdVG1YOpd-VO6f46aGH4AjBjMIFHgnYRQVBDte9zIma_n2AUTUOSM4Tfm5bRx9VFsRfCgUEPpNQD8rvsB0rOo_-ZX0xdT656G1hSvfrr8LOYlBwWW9sy6n8BiETA_23azY8aB1buWvusTSp7oAJy_yA-7UqjoRiiHl3diJLweIc30U98l5zGHWgrPdNUoQAOj5Wbyg07bcFWYXrB1hSy_GJyn5JrPiiXrVeiaQZiz1t6h_LnUw12Q2ZuB73R05QeHnMD4qlRlSJZTYKolqFtqq8BVwkMosEVj9hNXhsvU8bUnETxiyqtiVuMplbuFS6y_BDvFMd0SACUMLnLEdrTnn_lVH_dLaJpGcPk1W44pkKzd9BOFSztyIxz3Vy_CN3djC1DJuIsiaGzkv9eJWXr2qovT2cWUSexF8aYSDU-JwBboL4HQbPh10REsLGLPsFrwe3b2Z8Um6ssdI2Q4nwvpkr4g0m2LZVR56AYxmhm6_oEdaPvoN2YDfmiHBoAaJY5ejeDF8v5GstSdaePs8HAoFrmviUjKo2PpsmaGjL8eVEnFYYU-GhSNK4lzFSzVUsRubBt5Tugkn48xq_1X7krqG4eGiCg7rZJ5-XfLwyq3gQSe6H4S9RjXCwWq541qUuV9YgzoFOOHM5-6RKnbwkyTt93x65yi77BUtl7ID84ElK4M14tkbRAmGsZo4W04tb0TmHHlIb9MH1LeZ0whNneKp1fdVCF6pr332yaLzIU-OxIFReUBmgB8rBk29iyeWbaVTEkZMxy1cdQxquE-V27zPhgGDc3FMLxdlZ4Opnsi2kw3pDNmLUZLpIFOeeProtOe9IMyv4MGyJWl6-7w4ozC6_J7lcQ20Drk5pDCyUC2g_WVKBWqHn82PsSo3Fsl_8-_QDTHifzKuQWvKFdYjvijChYiUkhki2gblBX98qqmd3OGO1GKAyH_Xj4xApb24DsRpPmBx74neH8LrRE7k2al-HWGjy1pa2S0aiLMI9BU8ZqvLEBLZak9RwH2LtMn6ZN6XWujQVOsfYIwbdUbjoKhlvrx9PgoSm1qTTeFfgM9v-kqU4_EKq87Y137PFel5ov_t60RXvFp_efKExZ44YuEQM1VFRvQK73YjI62QzHcQUz9q2aF-ejShfHfRSHuQNdNEvro3euQ7w6VkbLn1h_g7gGn2A4IK34rZWr52p8TDeUDeQUs9lIUAN0zm4d8g0m5ma20Peu-hDjFtobvjSWo7KthtWZ1jgdJJGzg5ueTbMVtKdNIxOdGqb2GpBxjnwgPv4QwkIt6JgRsb-P3TIAw1ssaS8Pc0vcIZEQ7lXYHv0vJOzVckhWNAGOzr2QCX-9unmQ12xUFF7Y1B7M_KYLk0lyDe9lJwzf788hIQnj_FOc4uIA06ocopbwIjSYuQO8IWLhz-4djo24YpPZr_WUXy_4ig85hkhBQg5PbpJHDIFH7293pj_0xSAxll27qjwL2odLhfqjxXHXAIAcZTCxWarm81aH3J5moN1b_8DVsOvoRdekL4fBgcj2zFt2WGBYKv0F479_EnV3z2n7jGJtHPamnJ7BAO6EcDPinAdns2CHVxbU446R2gachj1tiU-c5WVieBn-CTDZxgvMvBtGQZehnrWW8ZFQeSBkzKkHCIad9OnxsaQYrD996UoUAEPAqP4KKi2VSsZnUeO7jVHgF7J_sky8mgacwp1q05-XO6j9vECnKmcv0FGmYhs2NpTlmpusL4KYHf9zv70QbITiT5gabj1CA69i9X6ISc4CdFnbzDG0q50N2nG5gnlQlamCqWPMkHRpgqAmvoAK9NvhtdVNKWN9oGHGKlEvJBfAOyZgExAwr2KcqoxralYPpmlU0RSI84ie5QVs4_Gtk9eVLkpoP9yLX6n4ZlsQ_T3AYA-IxDJZnkcRD2V02x9iUKi00CzypjeyHZMneAmdEqCgB0jLgX0XewhU\",cRq: {ru: 'aHR0cHM6Ly93d3cuYmhwaG90b3ZpZGVvLmNvbS9jL3Byb2R1Y3QvMTc3MjcxMi1SRUcvbGVub3ZvXzgyeGYwMDY1dXNfMTZfaWRlYXBhZF9zbGltXzVpLmh0bWw=',ra: 'TW96aWxsYS81LjAgKFdpbmRvd3MgTlQgMTAuMDsgV2luNjQ7IHg2NCkgQXBwbGVXZWJLaXQvNTM3LjM2IChLSFRNTCwgbGlrZSBHZWNrbykgSGVhZGxlc3NDaHJvbWUvMTE5LjAuNjA0NS4yMDAgU2FmYXJpLzUzNy4zNg==',rm: 'R0VU',d: 'uaAjBPnJ+rKbl7IOfxejUonYyM+4RwsE/eLit5M2WUC8KV+De0sxf1/TQs+vq5++QKdk+n88WuyQRyy/fzRACo7feYJtwP4mbnimlnFDQBiY5Lh8XdeLZ0On3hTFIiTVWEJu3T6Gvn6NSXNWPMaJQycAwrKILNW4zPNUP1tYs8VvTUa3cBCF20QJR1wsxa1GImqAoOWRGAyIVe0d554uyFJVlhEGXGWx3OJM+AeetgR7p1LavgW8W/iuiPhXKwxDBl4yXiKIDwGPfJ5jdOqS/9geQoP8q3oxqC3VgzEu+YQAita4AKZWqAHUGroGbyDzXki/2S2VmUDm0X07a0CD89pTAKWfo0O65uVaPuw1atwKrGAA4P5IoilbNP7uECE1CzkJDvrh0OdY7Lgu9dc02zf01qBYYSZd0uqfEda0DOkRH4EGBV1anSzV+D01TGhUf7nsnP4aWzQgV9LHkMv819xiStQ3I2eoxbHX4cZQYplI8NoFGQMlVvjVkVcTkyYXn22JUkQX5xjwaEV+fGWVQG+0GObiVcXqLs0PMi9y4ibpn9uCM456VK2u3ZcZ6JPh6RZS7yr/C/qahIJIOOPmfw==',t: 'MTcwMTkxMTc1OS41NDEwMDA=',cT: Math.floor(Date.now() / 1000),m: '/o8ng9UsxjR3GVJohxqTBMlJ7kAu9J7JxTubRXGvoGY=',i1: 'x+cD7nRtK3Bb3vXn6fa7oQ==',i2: 'CuvR/eAa6ZW4CGqn03H2Ew==',zh: 'IQM51pJqY07U6HUOWvB582D7YxwR1PfnvJdvEea0Akw=',uh: '8rSkVp5GIDQe5hARwCDedVJGPLXA3NnuBHvnAap7NNg=',hh: 'gxE/iMzMpw5MYHrzQf3XGBplnrtKQcJCut5Rll+Pt1A=',}};var cpo = document.createElement('script');cpo.src = '/cdn-cgi/challenge-platform/h/b/orchestrate/chl_page/v1?ray=8318ebb10a0b0f08';window._cf_chl_opt.cOgUHash = location.hash === '' && location.href.indexOf('#') !== -1 ? '#' : location.hash;window._cf_chl_opt.cOgUQuery = location.search === '' && location.href.slice(0, location.href.length - window._cf_chl_opt.cOgUHash.length).indexOf('?') !== -1 ? '?' : location.search;if (window.history && window.history.replaceState) {var ogU = location.pathname + window._cf_chl_opt.cOgUQuery + window._cf_chl_opt.cOgUHash;history.replaceState(null, null, \"\\/c\\/product\\/1772712-REG\\/lenovo_82xf0065us_16_ideapad_slim_5i.html?__cf_chl_rt_tk=sZueMU5FmDbsRqhtZKLzn_Nr3S.8yfIwC0rpRB8ZqmA-1701911759-0-gaNycGzNDhA\" + window._cf_chl_opt.cOgUHash);cpo.onload = function() {history.replaceState(null, null, ogU);}}document.getElementsByTagName('head')[0].appendChild(cpo);}());</script><div class=\"footer\" role=\"contentinfo\"><div class=\"footer-inner\"><div class=\"clearfix diagnostic-wrapper\"><div class=\"ray-id\">Ray ID: <code>8318ebb10a0b0f08</code></div></div><div class=\"text-center\" id=\"footer-text\">Performance &amp; security by <a href=\"https://www.cloudflare.com?utm_source=challenge&amp;utm_campaign=m\" rel=\"noopener noreferrer\" target=\"_blank\">Cloudflare</a></div></div></div></body></html>"
      ]
     },
     "execution_count": 11,
     "metadata": {},
     "output_type": "execute_result"
    }
   ],
   "source": [
    "soup = BeautifulSoup(html_content)\n",
    "soup"
   ]
  },
  {
   "cell_type": "code",
   "execution_count": 13,
   "metadata": {},
   "outputs": [
    {
     "data": {
      "text/plain": [
       "[]"
      ]
     },
     "execution_count": 13,
     "metadata": {},
     "output_type": "execute_result"
    }
   ],
   "source": [
    "soup.find_all(\"tr\", class_=\"pair_KqJ3Q3GPKv\")"
   ]
  },
  {
   "cell_type": "code",
   "execution_count": null,
   "metadata": {},
   "outputs": [],
   "source": []
  }
 ],
 "metadata": {
  "kernelspec": {
   "display_name": "Python 3",
   "language": "python",
   "name": "python3"
  },
  "language_info": {
   "codemirror_mode": {
    "name": "ipython",
    "version": 3
   },
   "file_extension": ".py",
   "mimetype": "text/x-python",
   "name": "python",
   "nbconvert_exporter": "python",
   "pygments_lexer": "ipython3",
   "version": "3.10.3"
  }
 },
 "nbformat": 4,
 "nbformat_minor": 2
}
