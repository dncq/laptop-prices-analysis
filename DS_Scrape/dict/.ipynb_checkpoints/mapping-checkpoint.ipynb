{
 "cells": [
  {
   "cell_type": "code",
   "execution_count": 2,
   "id": "00e13991",
   "metadata": {},
   "outputs": [],
   "source": [
    "import pandas as pd\n",
    "import numpy as np\n",
    "import random\n",
    "import csv\n",
    "import re\n",
    "\n",
    "pd.set_option(\"display.max_rows\", None)"
   ]
  },
  {
   "cell_type": "code",
   "execution_count": 1,
   "id": "1c3b7256",
   "metadata": {},
   "outputs": [
    {
     "name": "stdout",
     "output_type": "stream",
     "text": [
      "Collecting levenshtein\n",
      "  Obtaining dependency information for levenshtein from https://files.pythonhosted.org/packages/2f/04/a557197d0ba601f09fdd9ef9174b61d87706a291cd1e1578728eda3f44ab/Levenshtein-0.23.0-cp311-cp311-win_amd64.whl.metadata\n",
      "  Downloading Levenshtein-0.23.0-cp311-cp311-win_amd64.whl.metadata (3.5 kB)\n",
      "Collecting rapidfuzz<4.0.0,>=3.1.0 (from levenshtein)\n",
      "  Obtaining dependency information for rapidfuzz<4.0.0,>=3.1.0 from https://files.pythonhosted.org/packages/89/49/e95e84ed1e5c3c69ea8849d06f8f475c41303533c86710b1c01a4f50d353/rapidfuzz-3.5.2-cp311-cp311-win_amd64.whl.metadata\n",
      "  Downloading rapidfuzz-3.5.2-cp311-cp311-win_amd64.whl.metadata (11 kB)\n",
      "Downloading Levenshtein-0.23.0-cp311-cp311-win_amd64.whl (101 kB)\n",
      "   ---------------------------------------- 0.0/101.1 kB ? eta -:--:--\n",
      "   ------------------------------------ --- 92.2/101.1 kB 1.7 MB/s eta 0:00:01\n",
      "   ---------------------------------------- 101.1/101.1 kB 1.4 MB/s eta 0:00:00\n",
      "Downloading rapidfuzz-3.5.2-cp311-cp311-win_amd64.whl (1.7 MB)\n",
      "   ---------------------------------------- 0.0/1.7 MB ? eta -:--:--\n",
      "   ---- ----------------------------------- 0.2/1.7 MB 3.9 MB/s eta 0:00:01\n",
      "   ------- -------------------------------- 0.3/1.7 MB 3.3 MB/s eta 0:00:01\n",
      "   ------------- -------------------------- 0.6/1.7 MB 4.1 MB/s eta 0:00:01\n",
      "   -------------------- ------------------- 0.9/1.7 MB 4.7 MB/s eta 0:00:01\n",
      "   ------------------------------ --------- 1.3/1.7 MB 5.9 MB/s eta 0:00:01\n",
      "   ---------------------------------------- 1.7/1.7 MB 6.4 MB/s eta 0:00:00\n",
      "Installing collected packages: rapidfuzz, levenshtein\n",
      "Successfully installed levenshtein-0.23.0 rapidfuzz-3.5.2\n"
     ]
    }
   ],
   "source": [
    "!pip install levenshtein"
   ]
  },
  {
   "cell_type": "code",
   "execution_count": 3,
   "id": "0053c247",
   "metadata": {},
   "outputs": [],
   "source": [
    "cpu_df = pd.read_csv('cpu_mark.csv', index_col = 0)\n",
    "gpu_df = pd.read_csv('gpu_mark.csv', index_col = 0)"
   ]
  },
  {
   "cell_type": "code",
   "execution_count": 4,
   "id": "b74b1eca",
   "metadata": {},
   "outputs": [],
   "source": [
    "cpu_name_list = [cpu_df['CPU Name'][idx].lower() for idx in cpu_df.index]\n",
    "gpu_name_list = [gpu_df['GPU Name'][idx].lower() for idx in gpu_df.index]"
   ]
  },
  {
   "cell_type": "code",
   "execution_count": 5,
   "id": "3df59358",
   "metadata": {},
   "outputs": [],
   "source": [
    "from Levenshtein import ratio\n",
    "\"\"\"\n",
    "def LCS(s, t):\n",
    "    n = len(s)\n",
    "    m = len(t)\n",
    "    s=' '+s\n",
    "    t=' '+t\n",
    "\n",
    "    f = [[0 for i in range(m + 1)] for j in range(n+1)]\n",
    "     \n",
    "    for i in range(1,n + 1):\n",
    "        for j in range(1,m + 1):\n",
    "            if(s[i - 1] == t[j - 1]):\n",
    "                f[i][j] = f[i - 1][j - 1] + 1\n",
    "            else:\n",
    "                f[i][j] = max(f[i-1][j], f[i][j-1])\n",
    "    return (f[n][m]+n+m)/(n+m)\n",
    "\"\"\"\n",
    "def find_relative_string(s, slist):\n",
    "    found=[-1, -1]\n",
    "    for i in range(len(slist)):\n",
    "        acc=ratio(s, slist[i])\n",
    "        if found[0]<acc:\n",
    "            found[0]=acc\n",
    "            found[1]=i\n",
    "    return found\n",
    "\n",
    "def transform_cpu(row):\n",
    "    cpu = row['CPU']\n",
    "    if pd.notna(cpu):\n",
    "        cpu=cpu.lower()\n",
    "        acc, pos=find_relative_string(cpu, cpu_name_list)\n",
    "        if acc>0.5:\n",
    "            row[\"CPU Name\"] = cpu_df['CPU Name'][pos]\n",
    "            row[\"CPU Mark\"] = cpu_df['CPU Rank'][pos]\n",
    "        else:\n",
    "            row[\"CPU Name\"] = np.nan\n",
    "            row[\"CPU Mark\"] = np.nan\n",
    "    return row\n",
    "\n",
    "def transform_gpu(row):\n",
    "    gpu = row['GPU']\n",
    "    if pd.notna(gpu):\n",
    "        gpu=gpu.lower()\n",
    "        acc, pos=find_relative_string(gpu, gpu_name_list)\n",
    "        if acc>0.5:\n",
    "            row[\"GPU Name\"] = gpu_df['GPU Name'][pos]\n",
    "            row[\"GPU Mark\"] = gpu_df['GPU Rank'][pos]\n",
    "        else:\n",
    "            row[\"GPU Name\"] = np.nan\n",
    "            row[\"GPU Mark\"] = np.nan\n",
    "    return row\n"
   ]
  },
  {
   "cell_type": "code",
   "execution_count": 6,
   "id": "391aba99",
   "metadata": {},
   "outputs": [],
   "source": [
    "def transform_cpu_test(name):\n",
    "#     cpu = row['CPU']\n",
    "#     if pd.notna(cpu):\n",
    "        res = ''\n",
    "        name=name.lower()\n",
    "        acc, pos=find_relative_string(name, cpu_name_list)\n",
    "        if acc > 0.5:\n",
    "            res =  cpu_df['CPU Name'][pos]\n",
    "#             row[\"CPU Name\"] = cpu_df['CPU Name'][pos]\n",
    "#             row[\"CPU Mark\"] = cpu_df['CPU Rank'][pos]\n",
    "#         else:\n",
    "#             row[\"CPU Name\"] = np.nan\n",
    "#             row[\"CPU Mark\"] = np.nan\n",
    "        return res"
   ]
  },
  {
   "cell_type": "code",
   "execution_count": 7,
   "id": "0e46dea1",
   "metadata": {},
   "outputs": [
    {
     "name": "stdout",
     "output_type": "stream",
     "text": [
      "Intel Core i7 13700\n"
     ]
    }
   ],
   "source": [
    "cpu_name = ''\n",
    "print(transform_cpu_test(cpu_name))"
   ]
  },
  {
   "cell_type": "code",
   "execution_count": null,
   "id": "b5c64196",
   "metadata": {},
   "outputs": [],
   "source": []
  }
 ],
 "metadata": {
  "kernelspec": {
   "display_name": "Python 3 (ipykernel)",
   "language": "python",
   "name": "python3"
  },
  "language_info": {
   "codemirror_mode": {
    "name": "ipython",
    "version": 3
   },
   "file_extension": ".py",
   "mimetype": "text/x-python",
   "name": "python",
   "nbconvert_exporter": "python",
   "pygments_lexer": "ipython3",
   "version": "3.11.5"
  }
 },
 "nbformat": 4,
 "nbformat_minor": 5
}
