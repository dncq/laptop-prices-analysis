{
 "cells": [
  {
   "cell_type": "code",
   "execution_count": 23,
   "metadata": {
    "ExecuteTime": {
     "end_time": "2021-12-15T10:29:33.406593Z",
     "start_time": "2021-12-15T10:29:31.752675Z"
    }
   },
   "outputs": [],
   "source": [
    "import csv\n",
    "from bs4 import BeautifulSoup\n",
    "from selenium import webdriver\n",
    "from selenium.webdriver.support.ui import WebDriverWait\n",
    "from selenium.webdriver.common.by import By\n",
    "from selenium.webdriver.support import expected_conditions as EC\n",
    "from selenium.webdriver.chrome.options import Options\n",
    "import time"
   ]
  },
  {
   "cell_type": "code",
   "execution_count": 24,
   "metadata": {},
   "outputs": [],
   "source": [
    "from selenium import webdriver\n",
    "import json\n",
    "\n",
    "# Set the path to the WebDriver executable\n",
    "\n",
    "\n",
    "# Initialize the WebDriver (in this case, Chrome)\n",
    "driver = webdriver.Chrome()\n",
    "\n",
    "try:\n",
    "    # Navigate to the website\n",
    "    url = 'https://www.newegg.com/p/pl?N=100017489&PageSize=96&page=1'  # Replace with the URL of the website you want to scrape\n",
    "    driver.get(url)\n",
    "\n",
    "    # Use JavaScript to extract the window.__initialState__ content\n",
    "    script = \"return JSON.stringify(window.__initialState__);\"\n",
    "    json_data = driver.execute_script(script)\n",
    "    \n",
    "\n",
    "    # Parse the JSON data\n",
    "    try:\n",
    "        window_initial_state = json.loads(json_data)\n",
    "#         print(window_initial_state)\n",
    "    except json.JSONDecodeError as e:\n",
    "        print(f\"Error decoding JSON: {e}\")\n",
    "\n",
    "finally:\n",
    "    # Close the WebDriver in a finally block to ensure it gets closed even if an exception occurs\n",
    "    driver.quit()\n"
   ]
  },
  {
   "cell_type": "code",
   "execution_count": 25,
   "metadata": {},
   "outputs": [
    {
     "name": "stdout",
     "output_type": "stream",
     "text": [
      "36\n",
      "this is key named: NavigationList\n",
      "this is key named: PropertyList\n",
      "this is key named: ToolBar\n",
      "this is key named: TopSubCategory\n",
      "this is key named: Breadcrumbs\n",
      "this is key named: SortOption\n",
      "this is key named: Products\n",
      "this is key named: TrimmedSuggestion\n",
      "this is key named: AttachKeywordProfileInfo\n",
      "this is key named: TotalItemCount\n",
      "this is key named: ResultMessage\n",
      "this is key named: RedirectionUrl\n",
      "this is key named: RedirectSubcategory\n",
      "this is key named: ExtraN\n",
      "this is key named: InfoCardModule\n",
      "this is key named: PageBanner\n",
      "this is key named: Testimonials\n",
      "this is key named: ShoppingTools\n",
      "this is key named: FeatureItem\n",
      "this is key named: BrandInfos\n",
      "this is key named: PageInfo\n",
      "this is key named: AdobeTrackingMessage\n",
      "this is key named: CustomerHtmlCode\n",
      "this is key named: JssUrl\n",
      "this is key named: AutoPartsInfo\n",
      "this is key named: SponsoredVideo\n",
      "this is key named: RecommendedFilterList\n",
      "this is key named: MatchKeyWordNvalue\n",
      "this is key named: MainSaleStoreInfo\n",
      "this is key named: isPLPStyleBrandStore\n",
      "this is key named: isPLPSellerStore\n",
      "this is key named: AutoPartsConfig\n",
      "this is key named: IsBrandStore\n",
      "this is key named: showBrandLogo\n",
      "this is key named: __ServiceDataHeaderPortals\n",
      "this is key named: __ServiceDataAllBanner\n"
     ]
    }
   ],
   "source": [
    "\n",
    "\n",
    "print(len(window_initial_state.items()))\n",
    "for key in window_initial_state.keys():\n",
    "    print(f\"this is key named: {key}\")"
   ]
  },
  {
   "cell_type": "code",
   "execution_count": 26,
   "metadata": {},
   "outputs": [
    {
     "name": "stdout",
     "output_type": "stream",
     "text": [
      "61364\n"
     ]
    }
   ],
   "source": [
    "print(window_initial_state[\"TotalItemCount\"])"
   ]
  },
  {
   "cell_type": "code",
   "execution_count": 27,
   "metadata": {},
   "outputs": [],
   "source": [
    "product_dict= window_initial_state[\"Products\"]"
   ]
  },
  {
   "cell_type": "code",
   "execution_count": 29,
   "metadata": {},
   "outputs": [
    {
     "name": "stdout",
     "output_type": "stream",
     "text": [
      "96\n"
     ]
    }
   ],
   "source": [
    "print(len(product_dict))"
   ]
  },
  {
   "cell_type": "code",
   "execution_count": 28,
   "metadata": {},
   "outputs": [
    {
     "name": "stdout",
     "output_type": "stream",
     "text": [
      "{'IsCombo': False, 'SponsoredMsg': None, 'GroupItemCount': 5, 'GroupM2CManufacturerCodes': None, 'DynamicGroupCount': 2, 'RefurbishItemCount': 0, 'NewItemCount': 6, 'UsedItemCount': 0, 'SellerCount': 3, 'UsedLowestPrice': 0, 'ProductNumber': '34-840-212', 'AutoPartsItemPosition': None, 'AutoPartsItemQualification': None, 'ItemBadges': None, 'DeliveryDayLevel': None, 'ItemCell': {'Item': '34-840-212', 'UnitCost': 949.99, 'FinalPrice': 699.99, 'Active': '1', 'IsActivated': True, 'NewImage': {'ImageNameList': '34-840-212-17.jpg,34-840-212-V06.jpg,34-840-212-V04.jpg,34-840-212-01.jpg,34-840-212-03.jpg,34-840-212-05.jpg,34-840-212-18.jpg,34-840-212-06.jpg,34-840-212-08.jpg,34-840-212-09.jpg,34-840-212-10.jpg,34-840-212-13.jpg,34-840-212-14.jpg,34-840-212-15.jpg,34-840-212-21.jpg,34-840-212-22.jpg,34-840-212-23.jpg,34-840-212-24.jpg,34-840-212-25.jpg,34-840-212-26.jpg', 'ImageName': '34-840-212-17.jpg', 'DFIS360ImgFlag': None, 'NobgImageName': None}, 'Image': {'HasScene7Image': False, 'ImageInternalCount': 2, 'WaterMarkFlag': '0', 'ImageType': 0, 'IsDFISImage': True, 'HasWaterMark': True, 'Normal': {'ImageNameList': '34-840-212-17.jpg,34-840-212-V06.jpg,34-840-212-V04.jpg,34-840-212-01.jpg,34-840-212-03.jpg,34-840-212-05.jpg,34-840-212-18.jpg,34-840-212-06.jpg,34-840-212-08.jpg,34-840-212-09.jpg,34-840-212-10.jpg,34-840-212-13.jpg,34-840-212-14.jpg,34-840-212-15.jpg,34-840-212-21.jpg,34-840-212-22.jpg,34-840-212-23.jpg,34-840-212-24.jpg,34-840-212-25.jpg,34-840-212-26.jpg', 'ImageName': '34-840-212-17.jpg', 'DFIS360ImgFlag': None}, 'Scene7': {'ImageName': None, 'ImageSetName': None, 'ImageSetImageList': None, 'SpinSetName': None, 'SpinSetImageList': None, 'ThumbnailSetName': None, 'ThumbnailSetImageList': None, 'VendorSetImageList': None, 'SpecialImageList': None}, 'ItemCellImageName': '34-840-212-17.jpg', 'ImagePathPattern': [{'Size': -1, 'PathPattern': 'http://c1.neweggimages.com/NeweggImage/ProductImageCompressAll{Size}/{ImageName}'}, {'Size': 35, 'PathPattern': 'http://c1.neweggimages.com/ProductImageCompressAll{Size}/{ImageName}'}, {'Size': 60, 'PathPattern': 'http://c1.neweggimages.com/ProductImageCompressAll/{ImageName}'}, {'Size': 100, 'PathPattern': 'http://c1.neweggimages.com/ProductImageCompressAll{Size}/{ImageName}'}, {'Size': 180, 'PathPattern': 'http://c1.neweggimages.com/NeweggImage/ProductImageCompressAll200/{ImageName}'}, {'Size': 1280, 'PathPattern': 'http://c1.neweggimages.com/ProductImageOriginal/{ImageName}'}]}, 'Description': {'Title': 'Lenovo IdeaPad Slim 5i Laptop Intel i7 13th Gen 1355U 16GB RAM 1TB  SSD 16.0\" Windows 11 Home Intel Iris Xe Graphics 82XF002SUS', 'IMDescription': 'NB LENOVO 82XF002SUS R', 'BulletDescription': 'Intel Core i7 13th Gen 1355U (1.70GHz) \\r\\n16GB Memory 1 TB PCIe SSD \\r\\nIntel Iris Xe Graphics \\r\\n1920 x 1200 \\r\\nWindows 11 Home 64-bit\\r\\n1 year Lenovo Premium Care', 'LineDescription': 'Lenovo IdeaPad Slim 5i Laptop Intel i7 13th Gen 1355U 16GB RAM 1TB  SSD 16.0\" Windows 11 Home Intel Iris Xe Graphics 82XF002SUS', 'WebDescription': 'Lenovo IdeaPad Slim 5i Laptop Intel i7 13th Gen 1355U 16GB RAM 1TB  SSD 16.0\" Windows 11 Home Intel Iris Xe Graphics 82XF002SUS', 'LongDescription': None, 'UrlKeywords': 'abyss-blue-lenovo-ideapad-slim-5i-82xf002sus-home-personal', 'ShortTitle': 'Lenovo IdeaPad Slim 5i Laptop Intel i7 13th Gen 1355U 16GB RAM 1TB  SSD 16.0\" Windows 11 Home Intel Iris Xe Graphics 82XF002SUS', 'WHIDescription': None, 'ProductName': 'Laptop', 'ManualProductName': 'Laptop'}, 'PreorderType': 0, 'PromotionInfo': {'PromotionText': None, 'DisplayPromotionText': '', 'PromotionLink': None, 'PromotionLinkOpenType': None, 'PCode': '', 'PCodeType': 0, 'PCodeValue': 0}, 'Instock': True, 'PremierMark': None, 'OwnerCost': 0, 'CanPreLaunch': False, 'AddToCartType': 0, 'MapPrice': 0, 'ParentItem': None, 'IsBlockSeller': False, 'Feature': {'IsAIT': False, 'IsRestricted': False, 'IsPremier': False, 'IsFirstFromAsia': False, 'IsInPMCC': True, 'IsHot': False, 'IsFreshDeal': False, 'HasManufacturerWarranty': False, 'ShipByNewegg': True, 'ShowOEMRetail': True, 'ShowOEM': False, 'USPSMark': True, 'ShopRunnerMark': None, 'HasIntelligence': False, 'IsNew': True, 'IsRefurbished': False, 'IsOpenBoxed': False, 'ProductType': 1, 'IsPreLaunch': False, 'ABSMinimum': False, 'IsGiftCard': False, 'IsFlower': False, 'IsPCBuilderReserveItem': False}, 'MailinRebateCollection': None, 'SaleEndTimeText': '', 'Download': {'DownloadType': 0, 'BoxItem': None, 'SFItem': None}, 'Type': 0, 'Subcategory': {'SubcategoryId': 32, 'PatchCount': 0, 'SubcategoryDescription': 'Laptops / Notebooks', 'RealSubCategoryId': 32, 'RealSubCategoryDescription': 'Notebooks'}, 'ItemManufactory': {'BrandId': 10418, 'Code': 0, 'Manufactory': 'Lenovo', 'CountryOfMfr': 'USA', 'ManfactoryLogo': 1, 'ManufactoryWeb': None, 'Hyperlink': None, 'CustomerServicePhone': None, 'IsM2C': False, 'IsTopTierBrand': True}, 'MaxQty4Promo': 999999, 'ItemTime': {'StartTime': '1970-01-01 00:00:00.000', 'ConvertTime': '1970-01-01 00:00:00.000', 'ReleaseTime': '1970-01-01 00:00:00.000', 'ETATime': None}, 'ConvertCompleteFlag': None, 'NTCItemMark': False, 'OEMMark': 'false', 'InstantRebateAmount': 250, 'Review': {'Rating': 5, 'HumanRating': 8, 'CombineGroup': 3, 'ReviewSign': '', 'ReviewSignValue': None, 'ViewCount': 0, 'ItemAsDescribedRate': None, 'DeliverdOnTimeRate': None, 'SatisfiedServiiceRate': None, 'PositiveReviewRate': None, 'ImageVideoReviews': 0, 'RatingOneDecimal': 4.8, 'DeliverdOnTimeRateLast12M': None, 'ItemAsDescribedRateLast12M': None, 'SatisfiedServiiceRateLast12M': None, 'PositiveReviewRateLast12M': None}, 'Financing': {'TranCode': None, 'StartDate': None, 'EndDate': None, 'Months': 0, 'PayTermType': None}, 'RankInfo': {'ParentItem': None, 'ItemNumber': '34-840-212', 'WarehouseProcessScore': 0, 'MerchantMetricsScore': 0.993781, 'OrderPendingFastestDays': 0, 'OrderPendingSlowestDays': 0, 'FastestDays': 0, 'SlowestDays': 0, 'EggPointRate': 0, 'ShippingMethodFastest': 3, 'ShippingMethodSlowest': 7, 'TierEggpointRate': 0, 'InnerEggPercentPoints': None}, 'Seller': {'SellerId': '', 'SellerName': None, 'SellerLogoURL': None, 'SellerRating': None, 'SellerRatingOneDecimal': None, 'SellerReviewCount': None, 'SellerUrlKey': None, 'SellerModel': None, 'TopRated': False, 'LifetimeOrderCount': 0, 'SellerRatingLast12M': None, 'SellerRatingOneDecimalLast12M': None, 'SellerReviewCountLast12M': None}, 'Subscription': {'SubscriptionProgramID': 0, 'SubscriptionOnly': False, 'SubscriptionOrderFrequency': 0, 'SubscriptionPriceDiscountRate': 0, 'SubscriptionIsFreeShipping': '\\x00', 'SubscriptionContractTerm': 0, 'SubscriptionFreeTrial': 0, 'IsSubscription': False, 'IsRegularSubscription': False, 'IsSubscriptionOnly': False, 'IsCancelSubscription': False, 'IsCommitmentSubscription': False, 'IsSubscriptionFreeShipping': False}, 'VolumeDiscount': {'PromotionPrice1': 0, 'PromotionPrice2': 0, 'PromotionPrice3': 0, 'PromotionQty1': 0, 'PromotionQty2': 0, 'PromotionQty3': 0, 'PromotionShipping1': 0, 'PromotionShipping2': 0, 'PromotionShipping3': 0}, 'HasStudentPrice': False, 'ViewDescription': '<b>Type:</b> Home / Personal<br/><b>Resolution:</b> 1920 x 1200<br/><b>Weight:</b> 4.17 lbs.<br/><b>Graphics Card:</b> Intel Iris Xe Graphics<br/><b>Memory Speed:</b> LPDDR5 5200<br/><b>LCD Features:</b> IPS 300nits Anti-glare, 45% NTSC, TÜV Low Blue Light<br/><b>WLAN:</b> 802.11ax Wireless LAN<br/>', 'Model': '82XF002SUS', 'ShippingCharge': 0.01, 'RestrictedItemMark': '0', 'NewProductMark': False, 'Warranty': {'WarrantyID': 53, 'WarrantyName': 'Extended Holiday Return Policy'}, 'ItemGroupID': 197342939, 'IsForceViewDetails': False, 'BestSellingRanking': 2, 'ItemTagFlags': {'BigDiscount': 2, 'FreeShipping': 1}, 'AutoPartsItemInfo': None, 'DefaultShipVia': '100', 'StockForPCBuilder': 0, 'ShippingFeeType': 0, 'ShippingFeeFlatRate': 0, 'ShippingPromotionGroupID': '0', 'EggSaverMark': '1', 'SameDayShippingMark': '0', 'Weight': 6, 'LowestPrice30Days': 649.99, 'PcodeDiscount': 0, 'CustomTags': {'Save': 'Save 26%'}, 'EssItemBadges': [{'ItemNumber': '34-840-212', 'Status': None, 'Title': 'Cyber Monday Deal', 'Color': 'bg-green', 'StartDate': '2023-11-26T00:00:00', 'EndDate': '2023-11-30T23:59:59', 'Priority': None, 'Link': ''}], 'IsHotItem': False, 'ColorInfo': None, 'BoostingType': 'nonbst', 'IsLowestPrice': False, 'LaunchDate': None, 'DurationDays': None, 'ItemOfArrivalType': 0, 'DealsType': None, 'StateExceptionList': None, 'Length': 20, 'Width': 12.91, 'Height': 3.07, 'Category': {'RealGroupId': 35, 'RealGroupName': 'Systems', 'RealDomainId': 37, 'RealDomainName': 'Notebooks & Tablets', 'RealCategoryId': 135, 'RealCategoryName': 'Notebooks'}, 'ShipFromCountryName': 'United States', 'LimitQuantity': None, 'AutoAddDiscount': 0, 'ShortVideo': None, 'AnyFreeGift': False, 'GroupBuy': None}, 'ComboCell': None, 'IsGroupItem': False, 'GroupItemCell': None, 'ItemHasDyanmicCombo': False, 'RoomId': 0, 'DynamicCombo': None, 'formatLaunchDate': ''}\n"
     ]
    }
   ],
   "source": [
    "print(product_dict[1])"
   ]
  },
  {
   "cell_type": "code",
   "execution_count": 30,
   "metadata": {},
   "outputs": [
    {
     "name": "stdout",
     "output_type": "stream",
     "text": [
      "this is key named: Item\n",
      "this is key named: UnitCost\n",
      "this is key named: FinalPrice\n",
      "this is key named: Active\n",
      "this is key named: IsActivated\n",
      "this is key named: NewImage\n",
      "this is key named: Image\n",
      "this is key named: Description\n",
      "this is key named: PreorderType\n",
      "this is key named: PromotionInfo\n",
      "this is key named: Instock\n",
      "this is key named: PremierMark\n",
      "this is key named: OwnerCost\n",
      "this is key named: CanPreLaunch\n",
      "this is key named: AddToCartType\n",
      "this is key named: MapPrice\n",
      "this is key named: ParentItem\n",
      "this is key named: IsBlockSeller\n",
      "this is key named: Feature\n",
      "this is key named: MailinRebateCollection\n",
      "this is key named: SaleEndTimeText\n",
      "this is key named: Download\n",
      "this is key named: Type\n",
      "this is key named: Subcategory\n",
      "this is key named: ItemManufactory\n",
      "this is key named: MaxQty4Promo\n",
      "this is key named: ItemTime\n",
      "this is key named: ConvertCompleteFlag\n",
      "this is key named: NTCItemMark\n",
      "this is key named: OEMMark\n",
      "this is key named: InstantRebateAmount\n",
      "this is key named: Review\n",
      "this is key named: Financing\n",
      "this is key named: RankInfo\n",
      "this is key named: Seller\n",
      "this is key named: Subscription\n",
      "this is key named: VolumeDiscount\n",
      "this is key named: HasStudentPrice\n",
      "this is key named: ViewDescription\n",
      "this is key named: Model\n",
      "this is key named: ShippingCharge\n",
      "this is key named: RestrictedItemMark\n",
      "this is key named: NewProductMark\n",
      "this is key named: Warranty\n",
      "this is key named: ItemGroupID\n",
      "this is key named: IsForceViewDetails\n",
      "this is key named: BestSellingRanking\n",
      "this is key named: ItemTagFlags\n",
      "this is key named: AutoPartsItemInfo\n",
      "this is key named: DefaultShipVia\n",
      "this is key named: StockForPCBuilder\n",
      "this is key named: ShippingFeeType\n",
      "this is key named: ShippingFeeFlatRate\n",
      "this is key named: ShippingPromotionGroupID\n",
      "this is key named: EggSaverMark\n",
      "this is key named: SameDayShippingMark\n",
      "this is key named: Weight\n",
      "this is key named: LowestPrice30Days\n",
      "this is key named: PcodeDiscount\n",
      "this is key named: CustomTags\n",
      "this is key named: EssItemBadges\n",
      "this is key named: IsHotItem\n",
      "this is key named: ColorInfo\n",
      "this is key named: BoostingType\n",
      "this is key named: IsLowestPrice\n",
      "this is key named: LaunchDate\n",
      "this is key named: DurationDays\n",
      "this is key named: ItemOfArrivalType\n",
      "this is key named: DealsType\n",
      "this is key named: StateExceptionList\n",
      "this is key named: Length\n",
      "this is key named: Width\n",
      "this is key named: Height\n",
      "this is key named: Category\n",
      "this is key named: ShipFromCountryName\n",
      "this is key named: LimitQuantity\n",
      "this is key named: AutoAddDiscount\n",
      "this is key named: ShortVideo\n",
      "this is key named: AnyFreeGift\n",
      "this is key named: GroupBuy\n"
     ]
    }
   ],
   "source": [
    "for key in product_dict[0]['ItemCell'].keys():\n",
    "    print(f\"this is key named: {key}\")"
   ]
  },
  {
   "cell_type": "code",
   "execution_count": null,
   "metadata": {},
   "outputs": [],
   "source": [
    "for key in product_dict[0]['ItemCell']['Description'].keys():\n",
    "    print(f\"this is key named: {key}\")"
   ]
  },
  {
   "cell_type": "code",
   "execution_count": 38,
   "metadata": {},
   "outputs": [
    {
     "name": "stdout",
     "output_type": "stream",
     "text": [
      "899.99\n"
     ]
    }
   ],
   "source": [
    "print(product_dict[0]['ItemCell']['FinalPrice'])"
   ]
  },
  {
   "cell_type": "code",
   "execution_count": null,
   "metadata": {},
   "outputs": [],
   "source": [
    "print(product_dict[0]['ItemCell']['Description']['Title'])"
   ]
  },
  {
   "cell_type": "code",
   "execution_count": 39,
   "metadata": {},
   "outputs": [],
   "source": [
    "data = []\n",
    "for i in range(96):\n",
    "    name = product_dict[i]['ItemCell']['Description']['Title']\n",
    "    price = product_dict[i]['ItemCell']['FinalPrice']\n",
    "    data.append([name,price])\n",
    "    "
   ]
  },
  {
   "cell_type": "code",
   "execution_count": 40,
   "metadata": {},
   "outputs": [],
   "source": [
    "import pandas as pd\n",
    "import csv \n",
    "df = pd.DataFrame(data, columns=['Name', 'Price'])\n",
    "\n",
    "# Save DataFrame to CSV file\n",
    "df.to_csv('output.csv', index=True)\n"
   ]
  },
  {
   "cell_type": "code",
   "execution_count": 43,
   "metadata": {},
   "outputs": [
    {
     "data": {
      "text/html": [
       "<div>\n",
       "<style scoped>\n",
       "    .dataframe tbody tr th:only-of-type {\n",
       "        vertical-align: middle;\n",
       "    }\n",
       "\n",
       "    .dataframe tbody tr th {\n",
       "        vertical-align: top;\n",
       "    }\n",
       "\n",
       "    .dataframe thead th {\n",
       "        text-align: right;\n",
       "    }\n",
       "</style>\n",
       "<table border=\"1\" class=\"dataframe\">\n",
       "  <thead>\n",
       "    <tr style=\"text-align: right;\">\n",
       "      <th></th>\n",
       "      <th>Name</th>\n",
       "      <th>Price</th>\n",
       "    </tr>\n",
       "  </thead>\n",
       "  <tbody>\n",
       "    <tr>\n",
       "      <th>0</th>\n",
       "      <td>ASUS ROG Strix G16 (2023) Gaming Laptop, 16” 16:10 FHD 165Hz, GeForce RTX 4050, Intel Core i5-13450HX, 16GB DDR5, 1TB PCIe SSD, Wi-Fi 6E, Windows 11, G614JU-NS54</td>\n",
       "      <td>899.99</td>\n",
       "    </tr>\n",
       "    <tr>\n",
       "      <th>1</th>\n",
       "      <td>Lenovo IdeaPad Slim 5i Laptop Intel i7 13th Gen 1355U 16GB RAM 1TB  SSD 16.0\" Windows 11 Home Intel Iris Xe Graphics 82XF002SUS</td>\n",
       "      <td>699.99</td>\n",
       "    </tr>\n",
       "    <tr>\n",
       "      <th>2</th>\n",
       "      <td>MSI Summit E13FlipEvo A12MT-026 13.4\" Touchscreen Laptop  i7-1280P (1.80GHz) 16GB RAM 1TB SSD Intel Iris Xe Graphics Windows 11 Home</td>\n",
       "      <td>799.00</td>\n",
       "    </tr>\n",
       "    <tr>\n",
       "      <th>3</th>\n",
       "      <td>Acer Chromebook 314 Intel Celeron N4500 (1.10GHz) 4 GB LPDDR4X Memory 128 GB eMMC 14\" IPS Touchscreen Chrome OS CB314-3HT-C9VS</td>\n",
       "      <td>299.99</td>\n",
       "    </tr>\n",
       "    <tr>\n",
       "      <th>4</th>\n",
       "      <td>HP Essential 255 G9 Laptop, 15.6\" FHD Screen, AMD Ryzen 3 5425U, 32GB RAM, 2TB SSD, Webcam, HDMI, Wi-Fi, Windows 11 Home, Dark Ash Silver</td>\n",
       "      <td>454.00</td>\n",
       "    </tr>\n",
       "    <tr>\n",
       "      <th>...</th>\n",
       "      <td>...</td>\n",
       "      <td>...</td>\n",
       "    </tr>\n",
       "    <tr>\n",
       "      <th>91</th>\n",
       "      <td>Microsoft Surface Pro 7+ 2-in-1 Laptop Intel Core i5-1135G7 2.40 GHz 12.3\" Windows 10 Pro 64-bit 1NA-00001</td>\n",
       "      <td>869.00</td>\n",
       "    </tr>\n",
       "    <tr>\n",
       "      <th>92</th>\n",
       "      <td>MSI Modern 15H 15.6\" Ultra Thin and Light Professional Laptop Intel® Core™ i7-13620H Iris Xe 32GB DDR4 1TB NVMe SSD Win 11 Home B13M-021US</td>\n",
       "      <td>699.00</td>\n",
       "    </tr>\n",
       "    <tr>\n",
       "      <th>93</th>\n",
       "      <td>MSI Prestige 14 Evo Laptop Intel Core i7 12th Gen 1280P (1.80GHz) 32GB Memory 1 TB NVMe SSD Intel Iris Xe Graphics 14.0\" Windows 11 Home 64-bit A12M-054</td>\n",
       "      <td>799.00</td>\n",
       "    </tr>\n",
       "    <tr>\n",
       "      <th>94</th>\n",
       "      <td>Lenovo Laptop IdeaPad Slim 5 AMD Ryzen 7 7000 Series 7730U (2.00GHz) 16GB Memory 512 GB NVMe SSD AMD Radeon Graphics 16.0\" Touchscreen Windows 11 Home 64-bit 82XG0019US</td>\n",
       "      <td>619.99</td>\n",
       "    </tr>\n",
       "    <tr>\n",
       "      <th>95</th>\n",
       "      <td>Microsoft Surface Laptop Studio - 14.4\" Touchscreen - Intel® Core™ i7 - 16GB Memory - 512GB SSD - Platinum</td>\n",
       "      <td>2097.99</td>\n",
       "    </tr>\n",
       "  </tbody>\n",
       "</table>\n",
       "<p>96 rows × 2 columns</p>\n",
       "</div>"
      ],
      "text/plain": [
       "                                                                                                                                                                        Name  \\\n",
       "0          ASUS ROG Strix G16 (2023) Gaming Laptop, 16” 16:10 FHD 165Hz, GeForce RTX 4050, Intel Core i5-13450HX, 16GB DDR5, 1TB PCIe SSD, Wi-Fi 6E, Windows 11, G614JU-NS54   \n",
       "1                                            Lenovo IdeaPad Slim 5i Laptop Intel i7 13th Gen 1355U 16GB RAM 1TB  SSD 16.0\" Windows 11 Home Intel Iris Xe Graphics 82XF002SUS   \n",
       "2                                       MSI Summit E13FlipEvo A12MT-026 13.4\" Touchscreen Laptop  i7-1280P (1.80GHz) 16GB RAM 1TB SSD Intel Iris Xe Graphics Windows 11 Home   \n",
       "3                                             Acer Chromebook 314 Intel Celeron N4500 (1.10GHz) 4 GB LPDDR4X Memory 128 GB eMMC 14\" IPS Touchscreen Chrome OS CB314-3HT-C9VS   \n",
       "4                                  HP Essential 255 G9 Laptop, 15.6\" FHD Screen, AMD Ryzen 3 5425U, 32GB RAM, 2TB SSD, Webcam, HDMI, Wi-Fi, Windows 11 Home, Dark Ash Silver   \n",
       "..                                                                                                                                                                       ...   \n",
       "91                                                                Microsoft Surface Pro 7+ 2-in-1 Laptop Intel Core i5-1135G7 2.40 GHz 12.3\" Windows 10 Pro 64-bit 1NA-00001   \n",
       "92                                MSI Modern 15H 15.6\" Ultra Thin and Light Professional Laptop Intel® Core™ i7-13620H Iris Xe 32GB DDR4 1TB NVMe SSD Win 11 Home B13M-021US   \n",
       "93                  MSI Prestige 14 Evo Laptop Intel Core i7 12th Gen 1280P (1.80GHz) 32GB Memory 1 TB NVMe SSD Intel Iris Xe Graphics 14.0\" Windows 11 Home 64-bit A12M-054   \n",
       "94  Lenovo Laptop IdeaPad Slim 5 AMD Ryzen 7 7000 Series 7730U (2.00GHz) 16GB Memory 512 GB NVMe SSD AMD Radeon Graphics 16.0\" Touchscreen Windows 11 Home 64-bit 82XG0019US   \n",
       "95                                                                Microsoft Surface Laptop Studio - 14.4\" Touchscreen - Intel® Core™ i7 - 16GB Memory - 512GB SSD - Platinum   \n",
       "\n",
       "      Price  \n",
       "0    899.99  \n",
       "1    699.99  \n",
       "2    799.00  \n",
       "3    299.99  \n",
       "4    454.00  \n",
       "..      ...  \n",
       "91   869.00  \n",
       "92   699.00  \n",
       "93   799.00  \n",
       "94   619.99  \n",
       "95  2097.99  \n",
       "\n",
       "[96 rows x 2 columns]"
      ]
     },
     "execution_count": 43,
     "metadata": {},
     "output_type": "execute_result"
    }
   ],
   "source": [
    "pd.set_option('display.max_colwidth', None)\n",
    "\n",
    "# Print the DataFrame\n",
    "df"
   ]
  },
  {
   "cell_type": "code",
   "execution_count": null,
   "metadata": {},
   "outputs": [],
   "source": [
    "for key in product_dict[0].keys():\n",
    "    print(f\"this is key named: {key}\")"
   ]
  },
  {
   "cell_type": "markdown",
   "metadata": {},
   "source": [
    "## Scrape from Web View 96"
   ]
  },
  {
   "cell_type": "code",
   "execution_count": 5,
   "metadata": {},
   "outputs": [],
   "source": [
    "from bs4 import BeautifulSoup\n",
    "\n",
    "# Open the HTML file\n",
    "with open('newegg96_1.html', 'r', encoding='utf-8') as file:\n",
    "    content = file.read()\n",
    "soup = BeautifulSoup(content, parser =\"html.parser\")\n",
    "with open('output.txt', \"w\", encoding=\"utf-8\") as file:\n",
    "    file.write(soup.prettify())"
   ]
  },
  {
   "cell_type": "code",
   "execution_count": 20,
   "metadata": {},
   "outputs": [],
   "source": [
    "from collections import defaultdict\n",
    "# open the browser\n",
    "# browser = webdriver.Chrome(executable_path = path)\n",
    "browser = webdriver.Chrome()\n",
    "# load the webpage\n",
    "\n",
    "\n"
   ]
  },
  {
   "cell_type": "code",
   "execution_count": 19,
   "metadata": {},
   "outputs": [],
   "source": [
    "with open('newegg96_1.html', 'r', encoding='utf-8') as file:\n",
    "    content = file.read()"
   ]
  },
  {
   "cell_type": "code",
   "execution_count": 22,
   "metadata": {},
   "outputs": [
    {
     "name": "stdout",
     "output_type": "stream",
     "text": [
      "Scraping page 0\n",
      "722\n"
     ]
    }
   ],
   "source": [
    "from time import sleep\n",
    "url_list = []\n",
    "data = defaultdict(list)\n",
    "for i in range(1):\n",
    "    page_url = \"https://www.newegg.com/p/pl?N=100017489&PageSize=96&page={}\".format(i)\n",
    "\n",
    "        \n",
    "    soup = BeautifulSoup(content, 'html.parser')\n",
    "    print(\"Scraping page\", str(i))\n",
    "    try:\n",
    "        results = soup.find_all(\"a\", {\"class\": \"html-attribute-value html-external-link\"})\n",
    "    except:\n",
    "        print(\"err with print\")\n",
    "        sleep(10)\n",
    "    for item in results:\n",
    "        url_list.append(item.text)\n",
    "print(len(url_list))    "
   ]
  },
  {
   "cell_type": "code",
   "execution_count": null,
   "metadata": {},
   "outputs": [],
   "source": []
  }
 ],
 "metadata": {
  "kernelspec": {
   "display_name": "Python 3 (ipykernel)",
   "language": "python",
   "name": "python3"
  },
  "language_info": {
   "codemirror_mode": {
    "name": "ipython",
    "version": 3
   },
   "file_extension": ".py",
   "mimetype": "text/x-python",
   "name": "python",
   "nbconvert_exporter": "python",
   "pygments_lexer": "ipython3",
   "version": "3.11.5"
  },
  "varInspector": {
   "cols": {
    "lenName": 16,
    "lenType": 16,
    "lenVar": 40
   },
   "kernels_config": {
    "python": {
     "delete_cmd_postfix": "",
     "delete_cmd_prefix": "del ",
     "library": "var_list.py",
     "varRefreshCmd": "print(var_dic_list())"
    },
    "r": {
     "delete_cmd_postfix": ") ",
     "delete_cmd_prefix": "rm(",
     "library": "var_list.r",
     "varRefreshCmd": "cat(var_dic_list()) "
    }
   },
   "types_to_exclude": [
    "module",
    "function",
    "builtin_function_or_method",
    "instance",
    "_Feature"
   ],
   "window_display": false
  }
 },
 "nbformat": 4,
 "nbformat_minor": 4
}
