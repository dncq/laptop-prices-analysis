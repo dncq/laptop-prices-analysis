{
 "cells": [
  {
   "cell_type": "code",
   "execution_count": null,
   "metadata": {
    "ExecuteTime": {
     "end_time": "2021-12-15T10:29:33.406593Z",
     "start_time": "2021-12-15T10:29:31.752675Z"
    }
   },
   "outputs": [],
   "source": [
    "import csv\n",
    "from bs4 import BeautifulSoup\n",
    "from selenium import webdriver\n",
    "from selenium.webdriver.support.ui import WebDriverWait\n",
    "from selenium.webdriver.common.by import By\n",
    "from selenium.webdriver.support import expected_conditions as EC\n",
    "from selenium.webdriver.chrome.options import Options\n",
    "import time"
   ]
  },
  {
   "cell_type": "code",
   "execution_count": 84,
   "metadata": {},
   "outputs": [],
   "source": [
    "# from selenium import webdriver\n",
    "# import json\n",
    "# import os\n",
    "# # Define Chrome options\n",
    "# chrome_options = webdriver.ChromeOptions()\n",
    "# chrome_options.add_argument('--incognito')\n",
    "\n",
    "# # Initialize the WebDriver with the defined options\n",
    "# driver = webdriver.Chrome(options=chrome_options)\n",
    "# i = 8\n",
    "# for i in range(100):\n",
    "#     try:\n",
    "#         # Navigate to the website\n",
    "#         url = f'https://www.newegg.com/p/pl?N=100017489&PageSize=96&page={i+1}'  # Replace with the URL of the website you want to scrape\n",
    "#         driver.get(url)\n",
    "\n",
    "#         # Use JavaScript to extract the window.__initialState__ content\n",
    "#         script = \"return JSON.stringify(window.__initialState__);\"\n",
    "#         json_data = driver.execute_script(script)\n",
    "\n",
    "\n",
    "#         # Parse the JSON data\n",
    "#         try:\n",
    "#             window_initial_state = json.loads(json_data)\n",
    "#             save_directory = \"assets/new_egg/scraped_json\"\n",
    "\n",
    "#             # Create the directory if it doesn't exist\n",
    "#             if not os.path.exists(save_directory):\n",
    "#                 os.makedirs(save_directory)\n",
    "\n",
    "#             # Construct the filename based on the page number\n",
    "#             filename = f\"{save_directory}/page{i+1}_data.json\"\n",
    "\n",
    "#             with open(filename, 'w') as file:\n",
    "#                 json.dump(window_initial_state, file)\n",
    "\n",
    "#             print(f\"Data for page {i+1} saved successfully.\")\n",
    "#         except json.JSONDecodeError as e:\n",
    "#             print(f\"Error decoding JSON: {e}\")\n",
    "#     finally:\n",
    "#         driver.quit()\n",
    "# product_dict= window_initial_state[\"Products\"]\n",
    "# print(len(product_dict))\n",
    "# print(product_dict[95]['ItemCell']['Description']['WebDescription'])"
   ]
  },
  {
   "cell_type": "code",
   "execution_count": 9,
   "metadata": {},
   "outputs": [
    {
     "name": "stdout",
     "output_type": "stream",
     "text": [
      "96\n",
      "MSI 2-in-1 Laptop Summit E16Flip Intel Core i7-1260P 2.10 GHz 16\" Windows 11 Pro 64-bit Summit E16Flip A12UCT-008\n"
     ]
    }
   ],
   "source": [
    "import json\n",
    "\n",
    "# Path to the saved JSON file\n",
    "filename = \"assets/new_egg/scraped_json/page1_data.json\"\n",
    "\n",
    "try:\n",
    "    # Load the data from the JSON file\n",
    "    with open(filename, 'r') as file:\n",
    "        loaded_data = json.load(file)\n",
    "\n",
    "    # Access the loaded data as needed\n",
    "    product_dict = loaded_data[\"Products\"]\n",
    "    print(len(product_dict))\n",
    "    print(product_dict[95]['ItemCell']['Description']['Title'])\n",
    "\n",
    "except json.JSONDecodeError as e:\n",
    "    print(f\"Error decoding JSON: {e}\")\n",
    "except FileNotFoundError:\n",
    "    print(f\"File not found: {filename}\")\n"
   ]
  },
  {
   "cell_type": "markdown",
   "metadata": {},
   "source": [
    "## Saving BulletDescription"
   ]
  },
  {
   "cell_type": "code",
   "execution_count": 92,
   "metadata": {},
   "outputs": [
    {
     "name": "stdout",
     "output_type": "stream",
     "text": [
      "File not found: /DS_Scrape/assets/new_egg/scraped_json/page1_data.json\n"
     ]
    }
   ],
   "source": [
    "import json\n",
    "\n",
    "i = 1\n",
    "# Path to the saved JSON file\n",
    "filename = f\"/DS_Scrape/assets/new_egg/scraped_json/page{i}_data.json\"\n",
    "output_file = f\"/DS_Scrape/assets/new_egg/scraped_BD/page{i}_data.txt\"\n",
    "\n",
    "try:\n",
    "    # Load the data from the JSON file\n",
    "    with open(filename, 'r') as file:\n",
    "        loaded_data = json.load(file)\n",
    "\n",
    "    # Access the loaded data as needed\n",
    "    product_dict = loaded_data[\"Products\"]\n",
    "\n",
    "    # Open the output file in write mode\n",
    "    with open(output_file, 'w') as output_file:\n",
    "        # Iterate through each product and write BulletDescription to the file\n",
    "        for i in range(96):\n",
    "            bd = product_dict[i]['ItemCell']['Description']['BulletDescription']\n",
    "            output_file.write(f\"{bd}\\n\")  # Write each BulletDescription on a new line\n",
    "\n",
    "except json.JSONDecodeError as e:\n",
    "    print(f\"Error decoding JSON: {e}\")\n",
    "except FileNotFoundError:\n",
    "    print(f\"File not found: {filename}\")\n"
   ]
  },
  {
   "cell_type": "markdown",
   "metadata": {},
   "source": [
    "## Data Loader and Saver"
   ]
  },
  {
   "cell_type": "code",
   "execution_count": 10,
   "metadata": {},
   "outputs": [
    {
     "name": "stdout",
     "output_type": "stream",
     "text": [
      "36\n",
      "this is key named: NavigationList\n",
      "this is key named: PropertyList\n",
      "this is key named: ToolBar\n",
      "this is key named: TopSubCategory\n",
      "this is key named: Breadcrumbs\n",
      "this is key named: SortOption\n",
      "this is key named: Products\n",
      "this is key named: TrimmedSuggestion\n",
      "this is key named: AttachKeywordProfileInfo\n",
      "this is key named: TotalItemCount\n",
      "this is key named: ResultMessage\n",
      "this is key named: RedirectionUrl\n",
      "this is key named: RedirectSubcategory\n",
      "this is key named: ExtraN\n",
      "this is key named: InfoCardModule\n",
      "this is key named: PageBanner\n",
      "this is key named: Testimonials\n",
      "this is key named: ShoppingTools\n",
      "this is key named: FeatureItem\n",
      "this is key named: BrandInfos\n",
      "this is key named: PageInfo\n",
      "this is key named: AdobeTrackingMessage\n",
      "this is key named: CustomerHtmlCode\n",
      "this is key named: JssUrl\n",
      "this is key named: AutoPartsInfo\n",
      "this is key named: SponsoredVideo\n",
      "this is key named: RecommendedFilterList\n",
      "this is key named: MatchKeyWordNvalue\n",
      "this is key named: MainSaleStoreInfo\n",
      "this is key named: isPLPStyleBrandStore\n",
      "this is key named: isPLPSellerStore\n",
      "this is key named: AutoPartsConfig\n",
      "this is key named: IsBrandStore\n",
      "this is key named: showBrandLogo\n",
      "this is key named: __ServiceDataHeaderPortals\n",
      "this is key named: __ServiceDataAllBanner\n"
     ]
    }
   ],
   "source": [
    "\n",
    "\n",
    "print(len(loaded_data.items()))\n",
    "for key in loaded_data.keys():\n",
    "    print(f\"this is key named: {key}\")"
   ]
  },
  {
   "cell_type": "code",
   "execution_count": 11,
   "metadata": {},
   "outputs": [
    {
     "name": "stdout",
     "output_type": "stream",
     "text": [
      "62020\n"
     ]
    }
   ],
   "source": []
  },
  {
   "cell_type": "code",
   "execution_count": 12,
   "metadata": {},
   "outputs": [],
   "source": [
    "product_dict= loaded_data[\"Products\"]"
   ]
  },
  {
   "cell_type": "code",
   "execution_count": 63,
   "metadata": {},
   "outputs": [
    {
     "name": "stdout",
     "output_type": "stream",
     "text": [
      "this is key named: Title\n",
      "this is key named: IMDescription\n",
      "this is key named: BulletDescription\n",
      "this is key named: LineDescription\n",
      "this is key named: WebDescription\n",
      "this is key named: LongDescription\n",
      "this is key named: UrlKeywords\n",
      "this is key named: ShortTitle\n",
      "this is key named: WHIDescription\n",
      "this is key named: ProductName\n",
      "this is key named: ManualProductName\n"
     ]
    }
   ],
   "source": [
    "for key in product_dict[0][\"ItemCell\"][\"Description\"].keys():\n",
    "    print(f\"this is key named: {key}\")"
   ]
  },
  {
   "cell_type": "code",
   "execution_count": 89,
   "metadata": {},
   "outputs": [
    {
     "name": "stdout",
     "output_type": "stream",
     "text": [
      "None\n"
     ]
    }
   ],
   "source": [
    "print(product_dict[2][\"ItemCell\"][\"Description\"][\"WHIDescription\"])"
   ]
  },
  {
   "cell_type": "code",
   "execution_count": 83,
   "metadata": {},
   "outputs": [
    {
     "name": "stdout",
     "output_type": "stream",
     "text": [
      "MSI Modern 14 14\" Ultra Thin and Light Laptop AMD Ryzen 5-7530U UMA 16GB 512GB NVMe SSD Win 11 home, C7M-049US\n"
     ]
    }
   ],
   "source": [
    "print(product_dict[2][\"ItemCell\"][\"Description\"][\"Title\"])"
   ]
  },
  {
   "cell_type": "code",
   "execution_count": null,
   "metadata": {},
   "outputs": [],
   "source": []
  },
  {
   "cell_type": "code",
   "execution_count": 73,
   "metadata": {},
   "outputs": [],
   "source": [
    "if view_description is not None:\n",
    "    print(\"view is not NOne\")"
   ]
  },
  {
   "cell_type": "code",
   "execution_count": 58,
   "metadata": {},
   "outputs": [
    {
     "name": "stdout",
     "output_type": "stream",
     "text": [
      "Weight: 3.75 lbs.\n"
     ]
    }
   ],
   "source": [
    "from bs4 import BeautifulSoup\n",
    "\n",
    "html_string = view_description\n",
    "\n",
    "soup = BeautifulSoup(html_string, 'html.parser')\n",
    "\n",
    "weight_tag = soup.find('b', string='Weight:')\n",
    "if weight_tag:\n",
    "    weight = weight_tag.next_sibling.strip()\n",
    "    print(f\"Weight: {weight}\")\n",
    "else:\n",
    "    print(\"Weight information not found.\")\n",
    "\n"
   ]
  },
  {
   "cell_type": "code",
   "execution_count": 74,
   "metadata": {},
   "outputs": [
    {
     "name": "stdout",
     "output_type": "stream",
     "text": [
      "{'IsCombo': False, 'SponsoredMsg': None, 'GroupItemCount': 3, 'GroupM2CManufacturerCodes': ['207761'], 'DynamicGroupCount': 3, 'RefurbishItemCount': 0, 'NewItemCount': 3, 'UsedItemCount': 0, 'SellerCount': 3, 'UsedLowestPrice': 0, 'ProductNumber': '9SIAE2JJTX8934', 'AutoPartsItemPosition': None, 'AutoPartsItemQualification': None, 'ItemBadges': None, 'DeliveryDayLevel': None, 'ItemCell': {'Item': '9SIAE2JJTX8934', 'UnitCost': 229.99, 'FinalPrice': 229.99, 'Active': '1', 'IsActivated': True, 'NewImage': {'ImageNameList': 'A0ZXD2305191C31J59C.jpg,34-360-290-09.jpg,34-360-290-10.jpg,34-360-290-11.jpg,34-360-290-12.jpg,34-360-290-17.jpg,34-360-290-18.jpg,34-360-290-19.jpg,34-360-290-20.jpg', 'ImageName': 'A0ZXD2305191C31J59C.jpg', 'DFIS360ImgFlag': None, 'NobgImageName': None}, 'Image': {'HasScene7Image': False, 'ImageInternalCount': 2, 'WaterMarkFlag': '0', 'ImageType': 0, 'IsDFISImage': True, 'HasWaterMark': True, 'Normal': {'ImageNameList': 'A0ZXD2305191C31J59C.jpg,34-360-290-09.jpg,34-360-290-10.jpg,34-360-290-11.jpg,34-360-290-12.jpg,34-360-290-17.jpg,34-360-290-18.jpg,34-360-290-19.jpg,34-360-290-20.jpg', 'ImageName': 'A0ZXD2305191C31J59C.jpg', 'DFIS360ImgFlag': None}, 'Scene7': {'ImageName': None, 'ImageSetName': None, 'ImageSetImageList': None, 'SpinSetName': None, 'SpinSetImageList': None, 'ThumbnailSetName': None, 'ThumbnailSetImageList': None, 'VendorSetImageList': None, 'SpecialImageList': None}, 'ItemCellImageName': 'A0ZXD2305191C31J59C.jpg', 'ImagePathPattern': [{'Size': -1, 'PathPattern': 'http://c1.neweggimages.com/NeweggImage/ProductImageCompressAll{Size}/{ImageName}'}, {'Size': 35, 'PathPattern': 'http://c1.neweggimages.com/ProductImageCompressAll{Size}/{ImageName}'}, {'Size': 60, 'PathPattern': 'http://c1.neweggimages.com/ProductImageCompressAll/{ImageName}'}, {'Size': 100, 'PathPattern': 'http://c1.neweggimages.com/ProductImageCompressAll{Size}/{ImageName}'}, {'Size': 180, 'PathPattern': 'http://c1.neweggimages.com/NeweggImage/ProductImageCompressAll200/{ImageName}'}, {'Size': 1280, 'PathPattern': 'http://c1.neweggimages.com/ProductImageOriginal/{ImageName}'}]}, 'Description': {'Title': 'Acer Chromebook 314 Chromebook 14.0\" Chrome OS CB314-3H-C4VS', 'IMDescription': 'CB ACER CB314-3H-C4VS NX.K04AA.002 R', 'BulletDescription': 'Intel Celeron N4500 (1.10GHz) \\r\\n4 GB LPDDR4X Memory 128 GB eMMC SSD \\r\\nIntel UHD Graphics \\r\\n1366 x 768 \\r\\nChrome OS', 'LineDescription': 'Acer Chromebook 314 Chromebook Intel Celeron N4500 (1.10GHz) 4 GB LPDDR4X Memory 128 GB eMMC SSD 14.0\" Chrome OS CB314-3H-C4VS', 'WebDescription': 'Acer Chromebook 314 Chromebook Intel Celeron N4500 (1.10GHz) 4 GB LPDDR4X Memory 128 GB eMMC SSD 14.0\" Chrome OS CB314-3H-C4VS', 'LongDescription': None, 'UrlKeywords': 'acer-cb314-3h-c4vs', 'ShortTitle': 'Acer Chromebook 314 14.0\" Chromebook CB314-3H-C4VS', 'WHIDescription': None, 'ProductName': 'Chromebook', 'ManualProductName': 'Chromebook'}, 'PreorderType': 0, 'PromotionInfo': {'PromotionText': None, 'DisplayPromotionText': '', 'PromotionLink': None, 'PromotionLinkOpenType': None, 'PCode': '', 'PCodeType': 0, 'PCodeValue': 0}, 'Instock': True, 'PremierMark': None, 'OwnerCost': 0, 'CanPreLaunch': False, 'AddToCartType': 0, 'MapPrice': 0, 'ParentItem': '34-360-290', 'IsBlockSeller': False, 'Feature': {'IsAIT': False, 'IsRestricted': False, 'IsPremier': False, 'IsFirstFromAsia': False, 'IsInPMCC': False, 'IsHot': False, 'IsFreshDeal': False, 'HasManufacturerWarranty': False, 'ShipByNewegg': False, 'ShowOEMRetail': False, 'ShowOEM': False, 'USPSMark': False, 'ShopRunnerMark': None, 'HasIntelligence': False, 'IsNew': True, 'IsRefurbished': False, 'IsOpenBoxed': False, 'ProductType': 1, 'IsPreLaunch': False, 'ABSMinimum': False, 'IsGiftCard': False, 'IsFlower': False, 'IsPCBuilderReserveItem': False}, 'MailinRebateCollection': None, 'SaleEndTimeText': None, 'Download': {'DownloadType': 0, 'BoxItem': None, 'SFItem': None}, 'Type': 0, 'Subcategory': {'SubcategoryId': 3220, 'PatchCount': 0, 'SubcategoryDescription': 'Chromebooks', 'RealSubCategoryId': 3191, 'RealSubCategoryDescription': 'Chromebooks'}, 'ItemManufactory': {'BrandId': 1146, 'Code': 0, 'Manufactory': 'Acer America', 'CountryOfMfr': None, 'ManfactoryLogo': 1, 'ManufactoryWeb': None, 'Hyperlink': None, 'CustomerServicePhone': None, 'IsM2C': False, 'IsTopTierBrand': False}, 'MaxQty4Promo': 999999, 'ItemTime': {'StartTime': '1970-01-01 00:00:00.000', 'ConvertTime': '1970-01-01 00:00:00.000', 'ReleaseTime': '1970-01-01 00:00:00.000', 'ETATime': None}, 'ConvertCompleteFlag': None, 'NTCItemMark': False, 'OEMMark': 'false', 'InstantRebateAmount': 0, 'Review': {'Rating': 0, 'HumanRating': 0, 'CombineGroup': 0, 'ReviewSign': '', 'ReviewSignValue': None, 'ViewCount': 0, 'ItemAsDescribedRate': '0.9368', 'DeliverdOnTimeRate': '0.9456', 'SatisfiedServiiceRate': '0.8620', 'PositiveReviewRate': '0.8877', 'ImageVideoReviews': None, 'RatingOneDecimal': 0, 'DeliverdOnTimeRateLast12M': '1.0000', 'ItemAsDescribedRateLast12M': '1.0000', 'SatisfiedServiiceRateLast12M': '1.0000', 'PositiveReviewRateLast12M': '0.9375'}, 'Financing': {'TranCode': None, 'StartDate': None, 'EndDate': None, 'Months': 0, 'PayTermType': None}, 'RankInfo': {'ParentItem': '34-360-290', 'ItemNumber': '9SIAE2JJTX8934', 'WarehouseProcessScore': 0.95, 'MerchantMetricsScore': 0.981408, 'OrderPendingFastestDays': 0, 'OrderPendingSlowestDays': 0, 'FastestDays': 5, 'SlowestDays': 7, 'EggPointRate': 0, 'ShippingMethodFastest': 3, 'ShippingMethodSlowest': 5, 'TierEggpointRate': 0, 'InnerEggPercentPoints': None}, 'Seller': {'SellerId': 'AE2J', 'SellerName': 'Wholesale Connection', 'SellerLogoURL': 'Seller_AE2J_fd4166ae-debf-44fa-87c7-e8c19da38762.gif', 'SellerRating': 5, 'SellerRatingOneDecimal': 4.5, 'SellerReviewCount': 570, 'SellerUrlKey': 'Wholesale-Connection', 'SellerModel': 'VF', 'TopRated': False, 'LifetimeOrderCount': 13038, 'SellerRatingLast12M': 5, 'SellerRatingOneDecimalLast12M': 4.9, 'SellerReviewCountLast12M': 16}, 'Subscription': {'SubscriptionProgramID': 0, 'SubscriptionOnly': False, 'SubscriptionOrderFrequency': 0, 'SubscriptionPriceDiscountRate': 0, 'SubscriptionIsFreeShipping': '\\x00', 'SubscriptionContractTerm': 0, 'SubscriptionFreeTrial': 0, 'IsSubscription': False, 'IsRegularSubscription': False, 'IsSubscriptionOnly': False, 'IsCancelSubscription': False, 'IsCommitmentSubscription': False, 'IsSubscriptionFreeShipping': False}, 'VolumeDiscount': {'PromotionPrice1': 0, 'PromotionPrice2': 0, 'PromotionPrice3': 0, 'PromotionQty1': 0, 'PromotionQty2': 0, 'PromotionQty3': 0, 'PromotionShipping1': 0, 'PromotionShipping2': 0, 'PromotionShipping3': 0}, 'HasStudentPrice': False, 'ViewDescription': '<b>CPU:</b> Intel Celeron N4500 1.10 GHz<br/><b>Wide Screen Support:</b> Yes<br/><b>Part Number:</b> NX.K04AA.002<br/><b>Color:</b> Pure Silver<br/><b>Operating System:</b> Chrome OS<br/><b>Screen:</b> 14\"<br/><b>Memory:</b> 4 GB LPDDR4X<br/><b>Storage:</b> 128 GB eMMC<br/>', 'Model': 'NX.K04AA.002', 'ShippingCharge': 0.01, 'RestrictedItemMark': '0', 'NewProductMark': False, 'Warranty': {'WarrantyID': 264220, 'WarrantyName': 'Wholesale Connection Return Policy'}, 'ItemGroupID': 197149791, 'IsForceViewDetails': False, 'BestSellingRanking': 2, 'ItemTagFlags': {'FreeShipping': 1}, 'AutoPartsItemInfo': None, 'DefaultShipVia': '502', 'StockForPCBuilder': 0, 'ShippingFeeType': 0, 'ShippingFeeFlatRate': 0, 'ShippingPromotionGroupID': '0', 'EggSaverMark': '0', 'SameDayShippingMark': '0', 'Weight': 3.9, 'LowestPrice30Days': 0, 'PcodeDiscount': 0, 'CustomTags': {}, 'EssItemBadges': None, 'IsHotItem': False, 'ColorInfo': None, 'BoostingType': 'nonbst', 'IsLowestPrice': False, 'LaunchDate': None, 'DurationDays': None, 'ItemOfArrivalType': 0, 'DealsType': None, 'StateExceptionList': None, 'Length': 18.1, 'Width': 11.34, 'Height': 2.56, 'Category': {'RealGroupId': 35, 'RealGroupName': 'Systems', 'RealDomainId': 37, 'RealDomainName': 'Notebooks & Tablets', 'RealCategoryId': 135, 'RealCategoryName': 'Notebooks'}, 'ShipFromCountryName': 'United States', 'LimitQuantity': None, 'AutoAddDiscount': 0, 'ShortVideo': None, 'AnyFreeGift': False, 'GroupBuy': None}, 'ComboCell': None, 'IsGroupItem': False, 'GroupItemCell': None, 'ItemHasDyanmicCombo': False, 'RoomId': 0, 'DynamicCombo': None, 'formatLaunchDate': ''}\n"
     ]
    }
   ],
   "source": [
    "print(product_dict[4])"
   ]
  },
  {
   "cell_type": "markdown",
   "metadata": {},
   "source": [
    "## For key check"
   ]
  },
  {
   "cell_type": "code",
   "execution_count": null,
   "metadata": {},
   "outputs": [],
   "source": [
    "for key in product_dict[0]['ItemCell'].keys():\n",
    "    print(f\"this is key named: {key}\")"
   ]
  },
  {
   "cell_type": "code",
   "execution_count": null,
   "metadata": {},
   "outputs": [],
   "source": [
    "for key in product_dict[0]['ItemCell']['Description'].keys():\n",
    "    print(f\"this is key named: {key}\")"
   ]
  },
  {
   "cell_type": "markdown",
   "metadata": {},
   "source": [
    "## Print Title"
   ]
  },
  {
   "cell_type": "code",
   "execution_count": 7,
   "metadata": {},
   "outputs": [
    {
     "name": "stdout",
     "output_type": "stream",
     "text": [
      "HP 17.3\" HD+ Muti-Touchscreen Laptop, AMD Hexa-Core Ryzen 5 5500U, 16GB RAM 1TB M.2 NVMe SSD, AMD Radeon Graphics, HDMI, Type-C, HD Webcam, Windows 11 Pro (17-CP0025CL, Silver) (33Y42UA)\n"
     ]
    }
   ],
   "source": [
    "print(product_dict[10]['ItemCell']['Description']['Title'])"
   ]
  }
 ],
 "metadata": {
  "kernelspec": {
   "display_name": "Python 3 (ipykernel)",
   "language": "python",
   "name": "python3"
  },
  "language_info": {
   "codemirror_mode": {
    "name": "ipython",
    "version": 3
   },
   "file_extension": ".py",
   "mimetype": "text/x-python",
   "name": "python",
   "nbconvert_exporter": "python",
   "pygments_lexer": "ipython3",
   "version": "3.11.5"
  },
  "varInspector": {
   "cols": {
    "lenName": 16,
    "lenType": 16,
    "lenVar": 40
   },
   "kernels_config": {
    "python": {
     "delete_cmd_postfix": "",
     "delete_cmd_prefix": "del ",
     "library": "var_list.py",
     "varRefreshCmd": "print(var_dic_list())"
    },
    "r": {
     "delete_cmd_postfix": ") ",
     "delete_cmd_prefix": "rm(",
     "library": "var_list.r",
     "varRefreshCmd": "cat(var_dic_list()) "
    }
   },
   "types_to_exclude": [
    "module",
    "function",
    "builtin_function_or_method",
    "instance",
    "_Feature"
   ],
   "window_display": false
  }
 },
 "nbformat": 4,
 "nbformat_minor": 4
}
